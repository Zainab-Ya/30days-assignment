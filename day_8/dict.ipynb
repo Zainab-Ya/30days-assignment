{
 "cells": [
  {
   "cell_type": "markdown",
   "metadata": {},
   "source": [
    "Exercises: Day 8"
   ]
  },
  {
   "cell_type": "markdown",
   "metadata": {},
   "source": [
    "No. 1"
   ]
  },
  {
   "cell_type": "code",
   "execution_count": null,
   "metadata": {},
   "outputs": [],
   "source": [
    "dog = {}"
   ]
  },
  {
   "cell_type": "markdown",
   "metadata": {},
   "source": [
    "No. 2"
   ]
  },
  {
   "cell_type": "code",
   "execution_count": 7,
   "metadata": {},
   "outputs": [
    {
     "name": "stdout",
     "output_type": "stream",
     "text": [
      "{'name': 'chinza', 'color': 'brown', 'breed': 'dog', 'legs': 4, 'age': 5}\n"
     ]
    }
   ],
   "source": [
    "dog = { 'name': 'chinza', 'color': 'brown', 'breed':'dog', 'legs':4, 'age':5}\n",
    "print(dog)"
   ]
  },
  {
   "cell_type": "markdown",
   "metadata": {},
   "source": [
    "No. 3"
   ]
  },
  {
   "cell_type": "code",
   "execution_count": 12,
   "metadata": {},
   "outputs": [
    {
     "name": "stdout",
     "output_type": "stream",
     "text": [
      "{'first_name': 'Amina', 'last_name': 'Isah', 'gender': 'Female', 'age': 23, 'marital status': 'single', 'skills': ['catering', 'make up', 'tailoring'], 'country': 'Nigeria', 'city': 'Kano', 'address': 'Sharada phase1'}\n",
      "dict_keys(['first_name', 'last_name', 'gender', 'age', 'marital status', 'skills', 'country', 'city', 'address'])\n",
      "9\n"
     ]
    }
   ],
   "source": [
    "student_dictionary = {'first_name':'Amina', 'last_name':'Isah', 'gender':'Female', 'age':23, 'marital status':'single', 'skills':['catering','make up','tailoring'], 'country':'Nigeria', 'city':'Kano', 'address':'Sharada phase1'} \n",
    "print(student_dictionary)\n",
    "length_student_dic = student_dictionary.keys()\n",
    "print(length_student_dic)\n"
   ]
  },
  {
   "cell_type": "markdown",
   "metadata": {},
   "source": [
    "No. 4"
   ]
  },
  {
   "cell_type": "code",
   "execution_count": 23,
   "metadata": {},
   "outputs": [
    {
     "name": "stdout",
     "output_type": "stream",
     "text": [
      "9\n"
     ]
    }
   ],
   "source": [
    "print(len(length_student_dic))"
   ]
  },
  {
   "cell_type": "markdown",
   "metadata": {},
   "source": [
    "No. 5"
   ]
  },
  {
   "cell_type": "code",
   "execution_count": 26,
   "metadata": {},
   "outputs": [
    {
     "name": "stdout",
     "output_type": "stream",
     "text": [
      "dict_values(['Amina', 'Isah', 'Female', 23, 'single', ['catering', 'make up', 'tailoring'], 'Nigeria', 'Kano', 'Sharada phase1'])\n",
      "['catering', 'make up', 'tailoring']\n",
      "<class 'list'>\n"
     ]
    }
   ],
   "source": [
    "students_values =student_dictionary.values()\n",
    "print(students_values)\n",
    "print(student_dictionary['skills'])\n",
    "print(type(['skills']))\n"
   ]
  },
  {
   "cell_type": "markdown",
   "metadata": {},
   "source": [
    "No. 6"
   ]
  },
  {
   "cell_type": "code",
   "execution_count": 28,
   "metadata": {},
   "outputs": [
    {
     "name": "stdout",
     "output_type": "stream",
     "text": [
      "{'first_name': 'Amina', 'last_name': 'Isah', 'gender': 'Female', 'age': 23, 'marital status': 'single', 'skills': ['fashion', 'scientist', 'catering', 'make up', 'Tailoring'], 'country': 'Nigeria', 'city': 'Kano', 'address': 'Sharada phase1'}\n"
     ]
    }
   ],
   "source": [
    "student_dictionary['skills'] = ['fashion','scientist','catering','make up','Tailoring']\n",
    "print(student_dictionary)"
   ]
  },
  {
   "cell_type": "markdown",
   "metadata": {},
   "source": [
    "No. 7"
   ]
  },
  {
   "cell_type": "code",
   "execution_count": 29,
   "metadata": {},
   "outputs": [
    {
     "name": "stdout",
     "output_type": "stream",
     "text": [
      "dict_keys(['first_name', 'last_name', 'gender', 'age', 'marital status', 'skills', 'country', 'city', 'address'])\n"
     ]
    }
   ],
   "source": [
    "keys = student_dictionary.keys()\n",
    "print(keys)"
   ]
  },
  {
   "cell_type": "markdown",
   "metadata": {},
   "source": [
    "No. 8"
   ]
  },
  {
   "cell_type": "code",
   "execution_count": 30,
   "metadata": {},
   "outputs": [
    {
     "name": "stdout",
     "output_type": "stream",
     "text": [
      "dict_values(['Amina', 'Isah', 'Female', 23, 'single', ['fashion', 'scientist', 'catering', 'make up', 'Tailoring'], 'Nigeria', 'Kano', 'Sharada phase1'])\n"
     ]
    }
   ],
   "source": [
    "values = student_dictionary.values()\n",
    "print(values)"
   ]
  },
  {
   "cell_type": "markdown",
   "metadata": {},
   "source": [
    "No. 9"
   ]
  },
  {
   "cell_type": "code",
   "execution_count": 31,
   "metadata": {},
   "outputs": [
    {
     "name": "stdout",
     "output_type": "stream",
     "text": [
      "dict_items([('first_name', 'Amina'), ('last_name', 'Isah'), ('gender', 'Female'), ('age', 23), ('marital status', 'single'), ('skills', ['fashion', 'scientist', 'catering', 'make up', 'Tailoring']), ('country', 'Nigeria'), ('city', 'Kano'), ('address', 'Sharada phase1')])\n"
     ]
    }
   ],
   "source": [
    "print(student_dictionary.items())"
   ]
  },
  {
   "cell_type": "markdown",
   "metadata": {},
   "source": [
    "No. 10"
   ]
  },
  {
   "cell_type": "code",
   "execution_count": 32,
   "metadata": {},
   "outputs": [
    {
     "name": "stdout",
     "output_type": "stream",
     "text": [
      "{'last_name': 'Isah', 'gender': 'Female', 'age': 23, 'marital status': 'single', 'skills': ['fashion', 'scientist', 'catering', 'make up', 'Tailoring'], 'country': 'Nigeria', 'city': 'Kano', 'address': 'Sharada phase1'}\n"
     ]
    }
   ],
   "source": [
    "student_dictionary.pop('first_name')   \n",
    "print(student_dictionary) # Removes the firstname item\n"
   ]
  },
  {
   "cell_type": "markdown",
   "metadata": {},
   "source": [
    "No. 11"
   ]
  },
  {
   "cell_type": "code",
   "execution_count": 36,
   "metadata": {},
   "outputs": [],
   "source": [
    "student_dictionary = {'first_name':'Amina', 'last_name':'Isah', 'gender':'Female', 'age':23, 'marital status':'single', 'skills':['catering','make up','tailoring'], 'country':'Nigeria', 'city':'Kano', 'address':'Sharada phase1'} \n",
    "del student_dictionary\n"
   ]
  }
 ],
 "metadata": {
  "kernelspec": {
   "display_name": "Python 3",
   "language": "python",
   "name": "python3"
  },
  "language_info": {
   "codemirror_mode": {
    "name": "ipython",
    "version": 3
   },
   "file_extension": ".py",
   "mimetype": "text/x-python",
   "name": "python",
   "nbconvert_exporter": "python",
   "pygments_lexer": "ipython3",
   "version": "3.10.10"
  }
 },
 "nbformat": 4,
 "nbformat_minor": 2
}
