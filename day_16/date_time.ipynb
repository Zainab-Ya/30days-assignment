{
 "cells": [
  {
   "cell_type": "markdown",
   "metadata": {},
   "source": [
    "Exercises day 16"
   ]
  },
  {
   "cell_type": "code",
   "execution_count": 1,
   "metadata": {},
   "outputs": [
    {
     "name": "stdout",
     "output_type": "stream",
     "text": [
      "The current date is 12/21/2023\n",
      "The current time is 11:20\n",
      "The current timestamp is 1703186428.052604\n"
     ]
    }
   ],
   "source": [
    "import datetime\n",
    "\n",
    "# Get the current date and time\n",
    "now = datetime.datetime.now()\n",
    "\n",
    "# Extract the day, month, year, hour, minute and timestamp\n",
    "day = now.day\n",
    "month = now.month\n",
    "year = now.year\n",
    "hour = now.hour\n",
    "minute = now.minute\n",
    "timestamp = datetime.datetime.timestamp(now)\n",
    "\n",
    "# Print the results\n",
    "print(f\"The current date is {month}/{day}/{year}\")\n",
    "print(f\"The current time is {hour}:{minute}\")\n",
    "print(f\"The current timestamp is {timestamp}\")\n"
   ]
  },
  {
   "cell_type": "code",
   "execution_count": 2,
   "metadata": {},
   "outputs": [
    {
     "name": "stdout",
     "output_type": "stream",
     "text": [
      "The current date and time is 12/21/2023, 11:20:53\n"
     ]
    }
   ],
   "source": [
    "import datetime\n",
    "\n",
    "# Get the current date and time\n",
    "now = datetime.datetime.now()\n",
    "\n",
    "# Format the date\n",
    "formatted_date = now.strftime(\"%m/%d/%Y, %H:%M:%S\")\n",
    "\n",
    "# Print the formatted date\n",
    "print(f\"The current date and time is {formatted_date}\")\n"
   ]
  },
  {
   "cell_type": "code",
   "execution_count": 3,
   "metadata": {},
   "outputs": [
    {
     "name": "stdout",
     "output_type": "stream",
     "text": [
      "The time is 00:00:00\n"
     ]
    }
   ],
   "source": [
    "import datetime\n",
    "\n",
    "# Define the input string\n",
    "input_string = \"5 December, 2019\"\n",
    "\n",
    "# Convert the input string to a datetime object\n",
    "dt_object = datetime.datetime.strptime(input_string, \"%d %B, %Y\")\n",
    "\n",
    "# Extract the time from the datetime object\n",
    "time_object = dt_object.time()\n",
    "\n",
    "# Print the time\n",
    "print(f\"The time is {time_object}\")\n",
    "    "
   ]
  },
  {
   "cell_type": "code",
   "execution_count": 4,
   "metadata": {},
   "outputs": [
    {
     "name": "stdout",
     "output_type": "stream",
     "text": [
      "The time difference between now and New Year's Day is 10 days, 12:35:35.587946\n"
     ]
    }
   ],
   "source": [
    "import datetime\n",
    "\n",
    "# Get the current date and time\n",
    "now = datetime.datetime.now()\n",
    "\n",
    "# Get the date and time for New Year's Day\n",
    "new_year = datetime.datetime(now.year + 1, 1, 1)\n",
    "\n",
    "# Calculate the time difference\n",
    "time_difference = new_year - now\n",
    "\n",
    "# Print the time difference\n",
    "print(f\"The time difference between now and New Year's Day is {time_difference}\")\n"
   ]
  },
  {
   "cell_type": "code",
   "execution_count": 5,
   "metadata": {},
   "outputs": [
    {
     "name": "stdout",
     "output_type": "stream",
     "text": [
      "The time difference between January 1, 1970 and now is 19712 days, 11:25:54.955777\n"
     ]
    }
   ],
   "source": [
    "import datetime\n",
    "\n",
    "# Get the current date and time\n",
    "now = datetime.datetime.now()\n",
    "\n",
    "# Get the date and time for January 1, 1970\n",
    "start = datetime.datetime(1970, 1, 1)\n",
    "\n",
    "# Calculate the time difference\n",
    "time_difference = now - start\n",
    "\n",
    "# Print the time difference\n",
    "print(f\"The time difference between January 1, 1970 and now is {time_difference}\")\n"
   ]
  },
  {
   "cell_type": "markdown",
   "metadata": {},
   "source": [
    "Time series analysis: The datetime module provides a powerful set of tools for working with time series data, including the ability to parse and format dates and times, perform arithmetic operations on dates and times, and generate date ranges.\n",
    "\n",
    "Time stamping activities in an application: You can use the datetime module to generate timestamps for various activities in your application, such as logging events or tracking user activity.\n",
    "\n",
    "Adding posts on a blog: If you’re building a blog or content management system, you can use the datetime module to generate timestamps for your posts and to sort them by date."
   ]
  }
 ],
 "metadata": {
  "kernelspec": {
   "display_name": "Python 3",
   "language": "python",
   "name": "python3"
  },
  "language_info": {
   "codemirror_mode": {
    "name": "ipython",
    "version": 3
   },
   "file_extension": ".py",
   "mimetype": "text/x-python",
   "name": "python",
   "nbconvert_exporter": "python",
   "pygments_lexer": "ipython3",
   "version": "3.10.10"
  }
 },
 "nbformat": 4,
 "nbformat_minor": 2
}
