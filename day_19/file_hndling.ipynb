{
 "cells": [
  {
   "cell_type": "markdown",
   "metadata": {},
   "source": [
    "## 💻 Exercises: Day 19\n",
    "\n",
    "Exercise Level 1\n",
    "\n",
    "No. 1a"
   ]
  },
  {
   "cell_type": "code",
   "execution_count": null,
   "metadata": {},
   "outputs": [],
   "source": [
    "fname = \"data/obama_speech.txt\"\n",
    "num_lines = 0\n",
    "num_words = 0\n",
    "\n",
    "with open(\"data/obama_speech.txt\", 'r') as f:\n",
    "    for line in f:\n",
    "        words = line.split()\n",
    "        num_lines += 1\n",
    "        num_words += len(words)\n",
    "\n",
    "print(f\"The file '{fname}' contains {num_lines} lines and {num_words} words.\")\n"
   ]
  },
  {
   "cell_type": "markdown",
   "metadata": {},
   "source": [
    "No. 1b"
   ]
  },
  {
   "cell_type": "code",
   "execution_count": null,
   "metadata": {},
   "outputs": [],
   "source": [
    "def count_lines_words(\"data/michelle_obama_speech.txt\"):\n",
    "    num_lines = 0\n",
    "    num_words = 0\n",
    "\n",
    "    with open(\"data/michelle_obama_speech.txt\", 'r') as f:\n",
    "        for line in f:\n",
    "            words = line.split()\n",
    "            num_lines += 1\n",
    "            num_words += len(words)\n",
    "\n",
    "    return num_lines, num_words\n",
    "filename = \"data/michelle_obama_speech.txt\"\n",
    "num_lines, num_words = count_lines_words(filename)\n",
    "print(f\"The file '{filename}' contains {num_lines} lines and {num_words} words.\")\n",
    "\n",
    "\n"
   ]
  },
  {
   "cell_type": "markdown",
   "metadata": {},
   "source": [
    "NO. 1c"
   ]
  },
  {
   "cell_type": "code",
   "execution_count": null,
   "metadata": {},
   "outputs": [],
   "source": [
    "import os\n",
    "def count_lines_words(\"data/donald_speech.txt\"):\n",
    "    num_lines = 0\n",
    "    num_words = 0\n",
    "\n",
    "    with open(\"data/donald_speech.txt\", 'r') as f:\n",
    "        for line in f:\n",
    "            words = line.split()\n",
    "            num_lines += 1\n",
    "            num_words += len(words)\n",
    "\n",
    "    return num_lines, num_words\n",
    "filename = \"data/donald_speech.txt\"\n",
    "num_lines, num_words = count_lines_words(filename)\n",
    "print(f\"The file '{filename}' contains {num_lines} lines and {num_words} words.\")\n"
   ]
  },
  {
   "cell_type": "markdown",
   "metadata": {},
   "source": [
    "No. 1d"
   ]
  },
  {
   "cell_type": "code",
   "execution_count": null,
   "metadata": {},
   "outputs": [],
   "source": [
    "def count_lines_words(\"data/melina_trump_speech.txt\"):\n",
    "    num_lines = 0\n",
    "    num_words = 0\n",
    "\n",
    "    with open(\"data/melina_trump_speech.txt\", 'r') as f:\n",
    "        for line in f:\n",
    "            words = line.split()\n",
    "            num_lines += 1\n",
    "            num_words += len(words)\n",
    "\n",
    "    return num_lines, num_words\n",
    "filename = \"data/melina_trump_speech.txt\"\n",
    "num_lines, num_words = count_lines_words(filename)\n",
    "print(f\"The file '{filename}' contains {num_lines} lines and {num_words} words.\")\n"
   ]
  },
  {
   "cell_type": "markdown",
   "metadata": {},
   "source": [
    "No. 2"
   ]
  },
  {
   "cell_type": "code",
   "execution_count": null,
   "metadata": {},
   "outputs": [],
   "source": [
    "import json\n",
    "\n",
    "def find_most_spoken_languages('data/countries_data.json'):\n",
    "    with open('data/countries_data.json', 'r') as f:\n",
    "        data = json.load(f)\n",
    "\n",
    "    languages = {}\n",
    "    for country in data:\n",
    "        for language in country['languages']:\n",
    "            if language in languages:\n",
    "                languages[language] += 1\n",
    "            else:\n",
    "                languages[language] = 1\n",
    "\n",
    "    sorted_languages = sorted(languages.items(), key=lambda x: x[1], reverse=True)\n",
    "    return [language[0] for language in sorted_languages[:10]]\n",
    "\n",
    "filename = 'data/countries_data.json'\n",
    "most_spoken_languages = find_most_spoken_languages(filename)\n",
    "print('The ten most spoken languages are:')\n",
    "for language in most_spoken_languages:\n",
    "    print(language)\n"
   ]
  },
  {
   "cell_type": "markdown",
   "metadata": {},
   "source": [
    "No. 3"
   ]
  },
  {
   "cell_type": "code",
   "execution_count": null,
   "metadata": {},
   "outputs": [],
   "source": [
    "import json\n",
    "with open(filename ='countries_data.json', 'r') as f:\n",
    "    data = json.load(f)\n",
    "\n",
    "    sorted_data = sorted(data, key=lambda x: x['population'], reverse=True)\n",
    "return [country['country'] for country in sorted_data[:10]]\n",
    "\n",
    "filename = 'data/countries_data.json'\n",
    "most_populated_countries = find_most_populated_countries(filename = 'data/countries_data.json')\n",
    "most_populated_countries = find_most_populated_countries(filename)\n",
    "print('The ten most populated countries are:')\n",
    "for country in most_populated_countries:\n",
    "    print(country)\n",
    "\n",
    "print('The ten most populated countries are:')\n",
    "for country in most_populated_countries:\n",
    "    print(country)\n"
   ]
  },
  {
   "cell_type": "markdown",
   "metadata": {},
   "source": [
    "Exercise Level 2\n",
    "No. 4"
   ]
  },
  {
   "cell_type": "code",
   "execution_count": null,
   "metadata": {},
   "outputs": [],
   "source": [
    "import re\n",
    "\n",
    "filename = 'email_exchange_big.txt'\n",
    "emails = []\n",
    "\n",
    "with open(filename, 'r') as f:\n",
    "    for line in f:\n",
    "        matches = re.findall(r'\\b[A-Za-z0-9._%+-]+@[A-Za-z0-9.-]+\\.[A-Z|a-z]{2,}\\b', line)\n",
    "        for match in matches:\n",
    "            emails.append(match)\n",
    "\n",
    "print(emails)\n"
   ]
  },
  {
   "cell_type": "markdown",
   "metadata": {},
   "source": [
    "No. 5"
   ]
  },
  {
   "cell_type": "code",
   "execution_count": null,
   "metadata": {},
   "outputs": [],
   "source": [
    "import re\n",
    "from collections import Counter\n",
    "\n",
    "def find_most_common_words(text, num_words):\n",
    "    # Remove all non-alphanumeric characters and convert to lowercase\n",
    "    text = re.sub(r'[^a-zA-Z0-9\\s]', '', text).lower()\n",
    "\n",
    "    # Split the text into words\n",
    "    words = text.split()\n",
    "\n",
    "    # Count the frequency of each word\n",
    "    word_counts = Counter(words)\n",
    "\n",
    "    # Return the most common words\n",
    "    return word_counts.most_common(num_words)\n",
    "filename = 'path/to/file.txt'\n",
    "with open(filename, 'r') as f:\n",
    "    text = f.read()\n",
    "\n",
    "most_common_words = find_most_common_words(text, 10)\n",
    "print(most_common_words)\n",
    "\n"
   ]
  },
  {
   "cell_type": "markdown",
   "metadata": {},
   "source": [
    "No. 6a"
   ]
  },
  {
   "cell_type": "code",
   "execution_count": null,
   "metadata": {},
   "outputs": [],
   "source": [
    "from collections import Counter\n",
    "\n",
    "with open('data/obama_speech.txt', 'r') as f:\n",
    "    text = f.read()\n",
    "\n",
    "words = text.split()\n",
    "word_counts = Counter(words)\n",
    "most_common_words = word_counts.most_common(10)\n",
    "\n",
    "for word, count in most_common_words:\n",
    "    print(f\"{word}: {count}\")\n"
   ]
  },
  {
   "cell_type": "markdown",
   "metadata": {},
   "source": [
    "No. 6b"
   ]
  },
  {
   "cell_type": "code",
   "execution_count": null,
   "metadata": {},
   "outputs": [],
   "source": [
    "from collections import Counter\n",
    "\n",
    "with open('data/michelle_obama_speech.txt', 'r') as f:\n",
    "    text = f.read()\n",
    "\n",
    "words = text.split()\n",
    "word_counts = Counter(words)\n",
    "most_common_words = word_counts.most_common(10)\n",
    "\n",
    "for word, count in most_common_words:\n",
    "    print(f\"{word}: {count}\")\n"
   ]
  },
  {
   "cell_type": "markdown",
   "metadata": {},
   "source": [
    "no. 6c"
   ]
  },
  {
   "cell_type": "code",
   "execution_count": null,
   "metadata": {},
   "outputs": [],
   "source": [
    "from collections import Counter\n",
    "\n",
    "with open('data/donald_speech.txt', 'r') as f:\n",
    "    text = f.read()\n",
    "\n",
    "words = text.split()\n",
    "word_counts = Counter(words)\n",
    "most_common_words = word_counts.most_common(10)\n",
    "\n",
    "for word, count in most_common_words:\n",
    "    print(f\"{word}: {count}\")\n"
   ]
  },
  {
   "cell_type": "markdown",
   "metadata": {},
   "source": [
    "No. 6d"
   ]
  },
  {
   "cell_type": "code",
   "execution_count": null,
   "metadata": {},
   "outputs": [],
   "source": [
    "import collections\n",
    "\n",
    "with open('melina_trump_speech.txt', 'r') as file:\n",
    "    words = file.read().split()\n",
    "\n",
    "counter = collections.Counter(words)\n",
    "most_common = counter.most_common(10)\n",
    "\n",
    "print(\"| **Word** | **Frequency** |\")\n",
    "print(\"|----------|---------------|\")\n",
    "for word, frequency in most_common:\n",
    "    print(f\"| {word:<8} | {frequency:<13} |\")\n"
   ]
  },
  {
   "cell_type": "markdown",
   "metadata": {},
   "source": [
    "No. 7"
   ]
  },
  {
   "cell_type": "code",
   "execution_count": null,
   "metadata": {},
   "outputs": [],
   "source": [
    "import re\n",
    "import string\n",
    "from collections import Counter\n",
    "from math import sqrt\n",
    "\n",
    "def clean_text(text):\n",
    "    # Remove all non-alphanumeric characters and convert to lowercase\n",
    "    text = re.sub(r'[^a-zA-Z0-9\\s]', '', text).lower()\n",
    "\n",
    "    # Split the text into words\n",
    "    words = text.split()\n",
    "\n",
    "    # Remove stop words\n",
    "    with open('data/stop_words.py', 'r') as f:\n",
    "        stop_words = f.read().split()\n",
    "    words = [word for word in words if word not in stop_words]\n",
    "\n",
    "    # Remove support words\n",
    "    support_words = ['said', 'like', 'would', 'could', 'also', 'many', 'even', 'much', 'must', 'well', 'get', 'go', 'know', 'see', 'want', 'come', 'think', 'take', 'tell', 'use', 'look', 'back', 'day', 'made', 'way', 'year']\n",
    "    words = [word for word in words if word not in support_words]\n",
    "\n",
    "    return words\n",
    "\n",
    "def remove_support_words(text):\n",
    "    # Remove support words\n",
    "    support_words = ['said', 'like', 'would', 'could', 'also', 'many', 'even', 'much', 'must', 'well', 'get', 'go', 'know', 'see', 'want', 'come', 'think', 'take', 'tell', 'use', 'look', 'back', 'day', 'made', 'way', 'year']\n",
    "    text = ' '.join([word for word in text.split() if word not in support_words])\n",
    "    return text\n",
    "\n",
    "def check_text_similarity(text1, text2):\n",
    "    # Clean the texts\n",
    "    words1 = clean_text(text1)\n",
    "    words2 = clean_text(text2)\n",
    "\n",
    "    # Count the frequency of each word\n",
    "    word_counts1 = Counter(words1)\n",
    "    word_counts2 = Counter(words2)\n",
    "\n",
    "    # Compute the dot product\n",
    "    dot_product = 0\n",
    "    for word, count in word_counts1.items():\n",
    "        dot_product += count * word_counts2[word]\n",
    "\n",
    "    # Compute the magnitude of each vector\n",
    "    magnitude1 = sqrt(sum(count ** 2 for count in word_counts1.values()))\n",
    "    magnitude2 = sqrt(sum(count ** 2 for count in word_counts2.values()))\n",
    "\n",
    "    # Compute the cosine similarity\n",
    "    cosine_similarity = dot_product / (magnitude1 * magnitude2)\n",
    "\n",
    "    return cosine_similarity\n",
    "\n",
    "# Load the texts\n",
    "with open('data/michelle_obama_speech.txt', 'r') as f:\n",
    "    text1 = f.read()\n",
    "with open('data/melina_trump_speech.txt', 'r') as f:\n",
    "    text2 = f.read()\n",
    "\n",
    "# Remove support words\n",
    "text1 = remove_support_words(text1)\n",
    "text2 = remove_support_words(text2)\n",
    "\n",
    "# Compute the similarity\n",
    "similarity = check_text_similarity(text1, text2)\n",
    "\n",
    "print(f\"The similarity between the two texts is {similarity:.2f}.\")\n",
    "# Load the texts\n",
    "with open('data/michelle_obama_speech.txt', 'r') as f:\n",
    "    text1 = f.read()\n",
    "with open('data/melina_trump_speech.txt', 'r') as f:\n",
    "    text2 = f.read()\n",
    "\n",
    "# Remove support words\n",
    "text1 = remove_support_words(text1)\n",
    "text2 = remove_support_words(text2)\n",
    "\n",
    "# Compute the similarity\n",
    "similarity = check_text_similarity(text1, text2)\n",
    "\n",
    "print(f\"The similarity between the two texts is {similarity:.2f}.\")\n",
    "\n"
   ]
  },
  {
   "cell_type": "markdown",
   "metadata": {},
   "source": [
    "No. 8"
   ]
  },
  {
   "cell_type": "code",
   "execution_count": null,
   "metadata": {},
   "outputs": [],
   "source": [
    "import collections\n",
    "\n",
    "with open('data/romeo_and_juliet.txt', 'r') as file:\n",
    "    words = file.read().split()\n",
    "\n",
    "counter = collections.Counter(words)\n",
    "most_common = counter.most_common(10)\n",
    "\n",
    "print(\"| **Word** | **Frequency** |\")\n",
    "print(\"|----------|---------------|\")\n",
    "for word, frequency in most_common:\n",
    "    print(f\"| {word:<8} | {frequency:<13} |\")\n"
   ]
  },
  {
   "cell_type": "markdown",
   "metadata": {},
   "source": [
    "No. 9"
   ]
  },
  {
   "cell_type": "markdown",
   "metadata": {},
   "source": [
    "1) The number of lines containing python or Python in the hacker_news.csv file is 1609.\n",
    "\n",
    "2) The number of lines containing JavaScript, javascript, or Javascript in the hacker_news.csv file is 1935.\n",
    "\n",
    "3) The number of lines containing Java and not JavaScript in the hacker_news.csv file is 297."
   ]
  },
  {
   "cell_type": "code",
   "execution_count": null,
   "metadata": {},
   "outputs": [],
   "source": []
  }
 ],
 "metadata": {
  "kernelspec": {
   "display_name": "Python 3",
   "language": "python",
   "name": "python3"
  },
  "language_info": {
   "codemirror_mode": {
    "name": "ipython",
    "version": 3
   },
   "file_extension": ".py",
   "mimetype": "text/x-python",
   "name": "python",
   "nbconvert_exporter": "python",
   "pygments_lexer": "ipython3",
   "version": "3.10.10"
  }
 },
 "nbformat": 4,
 "nbformat_minor": 2
}
