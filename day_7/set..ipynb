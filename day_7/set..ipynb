{
 "cells": [
  {
   "cell_type": "markdown",
   "metadata": {},
   "source": [
    "Exercise Level 1"
   ]
  },
  {
   "cell_type": "markdown",
   "metadata": {},
   "source": [
    "No. 1"
   ]
  },
  {
   "cell_type": "code",
   "execution_count": 1,
   "metadata": {},
   "outputs": [
    {
     "name": "stdout",
     "output_type": "stream",
     "text": [
      "7\n"
     ]
    }
   ],
   "source": [
    "it_companies = {'Facebook', 'Google', 'Microsoft', 'Apple', 'IBM', 'Oracle', 'Amazon'}\n",
    "print(len(it_companies))"
   ]
  },
  {
   "cell_type": "markdown",
   "metadata": {},
   "source": [
    "No. 2"
   ]
  },
  {
   "cell_type": "code",
   "execution_count": 2,
   "metadata": {},
   "outputs": [
    {
     "name": "stdout",
     "output_type": "stream",
     "text": [
      "{'Microsoft', 'Oracle', 'Facebook', 'IBM', 'Google', 'Amazon', 'Apple', 'Twitter'}\n"
     ]
    }
   ],
   "source": [
    "it_companies.add('Twitter')\n",
    "print(it_companies)"
   ]
  },
  {
   "cell_type": "markdown",
   "metadata": {},
   "source": [
    "No. 3"
   ]
  },
  {
   "cell_type": "code",
   "execution_count": 3,
   "metadata": {},
   "outputs": [
    {
     "name": "stdout",
     "output_type": "stream",
     "text": [
      "{'IBM', 'Whatsapp', 'Google', 'Instagram', 'Apple', 'Twitter', 'Microsoft', 'Oracle', 'Facebook', 'Amazon', 'Telegram'}\n"
     ]
    }
   ],
   "source": [
    "it_companies = {'Facebook', 'Google', 'Microsoft', 'Apple', 'IBM', 'Oracle', 'Amazon'}\n",
    "IT = {'Instagram','Telegram','Whatsapp','Twitter'}\n",
    "it_companies.update(IT)\n",
    "print(it_companies)"
   ]
  },
  {
   "cell_type": "markdown",
   "metadata": {},
   "source": [
    "No. 4"
   ]
  },
  {
   "cell_type": "code",
   "execution_count": 4,
   "metadata": {},
   "outputs": [
    {
     "name": "stdout",
     "output_type": "stream",
     "text": [
      "{'Microsoft', 'Oracle', 'IBM', 'Google', 'Amazon', 'Apple'}\n"
     ]
    }
   ],
   "source": [
    "it_companies = {'Facebook', 'Google', 'Microsoft', 'Apple', 'IBM', 'Oracle', 'Amazon'}\n",
    "it_companies.remove('Facebook')\n",
    "print(it_companies)"
   ]
  },
  {
   "cell_type": "markdown",
   "metadata": {},
   "source": [
    "No. 5\n",
    "Difference between remove and discard: If the item is not found remove() method will raise errors, so it is good to check if the item exist in the given set and discard() method doesn't raise any errors.\n"
   ]
  },
  {
   "cell_type": "markdown",
   "metadata": {},
   "source": [
    "Exercise Level 2"
   ]
  },
  {
   "cell_type": "code",
   "execution_count": 5,
   "metadata": {},
   "outputs": [
    {
     "name": "stdout",
     "output_type": "stream",
     "text": [
      "{19, 20, 22, 24, 25, 26, 27, 28}\n",
      "{19, 20, 22, 24, 25, 26}\n",
      "True\n",
      "{19, 20, 22, 24, 25, 26, 27, 28}\n",
      "{19, 20, 22, 24, 25, 26, 27, 28}\n",
      "{27, 28}\n"
     ]
    }
   ],
   "source": [
    "A = {19, 22, 24, 20, 25, 26}\n",
    "B = {19, 22, 20, 25, 26, 24, 28, 27}\n",
    "print(A.union(B))\n",
    "print(A.intersection(B))\n",
    "print(A.issubset(B))\n",
    "print(A.union(B))\n",
    "print(B.union(A))\n",
    "print(A.symmetric_difference(B))\n",
    "del A\n",
    "del B"
   ]
  },
  {
   "cell_type": "markdown",
   "metadata": {},
   "source": [
    "Exercise Level 3"
   ]
  },
  {
   "cell_type": "markdown",
   "metadata": {},
   "source": [
    "No. 1"
   ]
  },
  {
   "cell_type": "code",
   "execution_count": 6,
   "metadata": {},
   "outputs": [
    {
     "name": "stdout",
     "output_type": "stream",
     "text": [
      "8\n",
      "{19, 22, 24, 25, 26}\n",
      "5\n"
     ]
    }
   ],
   "source": [
    "age = [22, 19, 24, 25, 26, 24, 25, 24]\n",
    "print(len(age)) #length of list\n",
    "age = set(age)\n",
    "print(age)\n",
    "print(len(age)) #length of sets\n",
    "# this shows that the length of the list is bigge"
   ]
  },
  {
   "cell_type": "markdown",
   "metadata": {},
   "source": [
    "No. 2\n",
    "Differences between string,list, tuple and sets\n",
    "String:\n",
    "- A string is a sequence of characters.\n",
    "- It is represented by enclosing the characters in single quotes ('') or double quotes (\"\").\n",
    "- Example: \"Hello World\"\n",
    "\n",
    "List:\n",
    "- A list is a collection of items which are ordered and changeable.\n",
    "- It is represented by enclosing the items in square brackets ([]).\n",
    "- The items in a list can be of different data types.\n",
    "- Lists allow duplicate values.\n",
    "- The elements in a list can be modified (mutable).\n",
    "- Example: [1, 2, 'apple', 'banana']\n",
    "\n",
    "Tuple:\n",
    "- A tuple is similar to a list, but it is immutable, i.e., its elements cannot be changed once assigned.\n",
    "- It is represented by enclosing the items in parentheses ().\n",
    "- The items in a tuple can be of different data types.\n",
    "- Tuples allow duplicate values.\n",
    "- Example: (1, 2, 'apple', 'banana')\n",
    "\n",
    "Set:\n",
    "- A set is an unordered collection of unique elements.\n",
    "- It is represented by enclosing the elements in curly braces ({}) or using the set() function.\n",
    "- Sets do not allow duplicate values, and they eliminate duplicates automatically.\n",
    "- The order of elements in a set is not guaranteed.\n",
    "- Sets are mutable, i.e., elements can be added or removed.\n",
    "- Example: {1, 2, 3, 4}"
   ]
  },
  {
   "cell_type": "markdown",
   "metadata": {},
   "source": [
    "No. 2\n"
   ]
  },
  {
   "cell_type": "code",
   "execution_count": 7,
   "metadata": {},
   "outputs": [
    {
     "name": "stdout",
     "output_type": "stream",
     "text": [
      "['I', 'am', 'a', 'teacher', 'and', 'I', 'love', 'to', 'inspire', 'and', 'teach', 'people.']\n",
      "{'and', 'teacher', 'I', 'am', 'to', 'inspire', 'a', 'love', 'people.', 'teach'}\n",
      "10\n"
     ]
    }
   ],
   "source": [
    "sentence = \"I am a teacher and I love to inspire and teach people.\"\n",
    "words = sentence.split()\n",
    "print(words)\n",
    "unique_words = set(words)\n",
    "print(unique_words)\n",
    "\n",
    "print(len(unique_words))"
   ]
  }
 ],
 "metadata": {
  "kernelspec": {
   "display_name": "Python 3",
   "language": "python",
   "name": "python3"
  },
  "language_info": {
   "codemirror_mode": {
    "name": "ipython",
    "version": 3
   },
   "file_extension": ".py",
   "mimetype": "text/x-python",
   "name": "python",
   "nbconvert_exporter": "python",
   "pygments_lexer": "ipython3",
   "version": "3.10.10"
  }
 },
 "nbformat": 4,
 "nbformat_minor": 2
}
