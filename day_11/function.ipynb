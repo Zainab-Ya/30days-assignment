{
 "cells": [
  {
   "cell_type": "markdown",
   "metadata": {},
   "source": [
    "Exercises: Day 11\n",
    "\n",
    "### Exercises: Level 1\n",
    "\n",
    "No. 1"
   ]
  },
  {
   "cell_type": "code",
   "execution_count": 11,
   "metadata": {},
   "outputs": [
    {
     "name": "stdout",
     "output_type": "stream",
     "text": [
      "the sum is 13\n"
     ]
    }
   ],
   "source": [
    "def _add_two_numbers(x,y):\n",
    "  sum = x+y\n",
    "  return sum \n",
    "print('the sum is',_add_two_numbers(5,8))\n",
    "\n",
    "\n"
   ]
  },
  {
   "cell_type": "markdown",
   "metadata": {},
   "source": [
    "No. 2"
   ]
  },
  {
   "cell_type": "code",
   "execution_count": 19,
   "metadata": {},
   "outputs": [
    {
     "name": "stdout",
     "output_type": "stream",
     "text": [
      "The area of a circle is 153.958\n"
     ]
    }
   ],
   "source": [
    "import math\n",
    "def area_of_circle(r, PI = 3.142):\n",
    " r = int (input('Enter the radius:'))\n",
    " area = PI * r * r\n",
    " return area\n",
    "print('The area of a circle is',area_of_circle(4))"
   ]
  },
  {
   "cell_type": "markdown",
   "metadata": {},
   "source": [
    "No. 3"
   ]
  },
  {
   "cell_type": "code",
   "execution_count": 23,
   "metadata": {},
   "outputs": [],
   "source": [
    "def add_all_nums(*args):\n",
    "    if all(isinstance(arg, (int, float)) for arg in args):\n",
    "        return sum(args)\n",
    "    else:\n",
    "        return \"Error: Please provide only numeric arguments.\"\n",
    "\n"
   ]
  },
  {
   "cell_type": "markdown",
   "metadata": {},
   "source": [
    "No. 4"
   ]
  },
  {
   "cell_type": "code",
   "execution_count": 49,
   "metadata": {},
   "outputs": [
    {
     "name": "stdout",
     "output_type": "stream",
     "text": [
      "77.0\n"
     ]
    }
   ],
   "source": [
    "def convert_celsius_to_fahrenheit(celsius):\n",
    "    fahrenheit = (celsius * 9/5) + 32\n",
    "    return fahrenheit\n",
    "print(convert_celsius_to_fahrenheit(25))\n"
   ]
  },
  {
   "cell_type": "markdown",
   "metadata": {},
   "source": [
    "No. 5"
   ]
  },
  {
   "cell_type": "code",
   "execution_count": 47,
   "metadata": {},
   "outputs": [
    {
     "name": "stdout",
     "output_type": "stream",
     "text": [
      "Winter\n"
     ]
    }
   ],
   "source": [
    "def check_season(month):\n",
    "    if month in ['December', 'January', 'February']:\n",
    "        return 'Winter'\n",
    "    elif month in ['March', 'April', 'May']:\n",
    "        return 'Spring'\n",
    "    elif month in ['June', 'July', 'August']:\n",
    "        return 'Summer'\n",
    "    else:\n",
    "        return 'Autumn'\n",
    "print(check_season('December'))\n"
   ]
  },
  {
   "cell_type": "markdown",
   "metadata": {},
   "source": [
    "No. 6"
   ]
  },
  {
   "cell_type": "code",
   "execution_count": 50,
   "metadata": {},
   "outputs": [
    {
     "name": "stdout",
     "output_type": "stream",
     "text": [
      "2.0\n"
     ]
    }
   ],
   "source": [
    "def calculate_slope(x1, y1, x2, y2):\n",
    "    slope = (y2 - y1) / (x2 - x1)\n",
    "    return slope\n",
    "print(calculate_slope(0, 0, 2, 4))"
   ]
  },
  {
   "cell_type": "markdown",
   "metadata": {},
   "source": [
    "No. 7"
   ]
  },
  {
   "cell_type": "code",
   "execution_count": 51,
   "metadata": {},
   "outputs": [
    {
     "name": "stdout",
     "output_type": "stream",
     "text": [
      "((-3+0j), (-2+0j))\n"
     ]
    }
   ],
   "source": [
    "import cmath\n",
    "\n",
    "def solve_quadratic_eqn(a, b, c):\n",
    "    # calculate the discriminant\n",
    "    d = (b**2) - (4*a*c)\n",
    "\n",
    "    # find two solutions\n",
    "    sol1 = (-b - cmath.sqrt(d)) / (2 * a)\n",
    "    sol2 = (-b + cmath.sqrt(d)) / (2 * a)\n",
    "\n",
    "    return sol1, sol2\n",
    "print(solve_quadratic_eqn(1, 5, 6))"
   ]
  },
  {
   "cell_type": "markdown",
   "metadata": {},
   "source": [
    "No. 8"
   ]
  },
  {
   "cell_type": "code",
   "execution_count": 53,
   "metadata": {},
   "outputs": [
    {
     "name": "stdout",
     "output_type": "stream",
     "text": [
      "apple\n",
      "banana\n",
      "cherry\n"
     ]
    }
   ],
   "source": [
    "def print_list(lst):\n",
    "    for item in lst:\n",
    "        print(item)\n",
    "my_list = ['apple', 'banana', 'cherry']\n",
    "print_list(my_list)\n",
    "\n",
    "       \n"
   ]
  },
  {
   "cell_type": "markdown",
   "metadata": {},
   "source": [
    "No. 9"
   ]
  },
  {
   "cell_type": "code",
   "execution_count": 55,
   "metadata": {},
   "outputs": [
    {
     "name": "stdout",
     "output_type": "stream",
     "text": [
      "[5, 4, 3, 2, 1]\n",
      "['C', 'B', 'A']\n"
     ]
    }
   ],
   "source": [
    "def reverse_list(lst):\n",
    "    reversed_lst = []\n",
    "    for i in range(len(lst)-1, -1, -1):\n",
    "        reversed_lst.append(lst[i])\n",
    "    return reversed_lst\n",
    "print(reverse_list([1, 2, 3, 4, 5])) \n",
    "print(reverse_list([\"A\", \"B\", \"C\"]))\n"
   ]
  },
  {
   "cell_type": "markdown",
   "metadata": {},
   "source": [
    "No. 10"
   ]
  },
  {
   "cell_type": "code",
   "execution_count": 57,
   "metadata": {},
   "outputs": [
    {
     "data": {
      "text/plain": [
       "['Apple', 'Banana', 'Cherry']"
      ]
     },
     "execution_count": 57,
     "metadata": {},
     "output_type": "execute_result"
    }
   ],
   "source": [
    "def capitalize_list_items(lst):\n",
    "    capitalized_lst = [item.capitalize() for item in lst]\n",
    "    return capitalized_lst\n",
    "my_list = ['apple', 'banana', 'cherry']\n",
    "capitalize_list_items(my_list)\n"
   ]
  },
  {
   "cell_type": "markdown",
   "metadata": {},
   "source": [
    "No. 11"
   ]
  },
  {
   "cell_type": "code",
   "execution_count": 58,
   "metadata": {},
   "outputs": [
    {
     "name": "stdout",
     "output_type": "stream",
     "text": [
      "['Potato', 'Tomato', 'Mango', 'Milk', 'Meat']\n",
      "[2, 3, 7, 9, 5]\n"
     ]
    }
   ],
   "source": [
    "def add_item(lst, item):\n",
    "    lst.append(item)\n",
    "    return lst\n",
    "food_staff = ['Potato', 'Tomato', 'Mango', 'Milk']\n",
    "print(add_item(food_staff, 'Meat'))\n",
    "['Potato', 'Tomato', 'Mango', 'Milk', 'Meat']\n",
    "\n",
    "numbers = [2, 3, 7, 9]\n",
    "print(add_item(numbers, 5))\n"
   ]
  },
  {
   "cell_type": "markdown",
   "metadata": {},
   "source": [
    "No. 12"
   ]
  },
  {
   "cell_type": "code",
   "execution_count": 59,
   "metadata": {},
   "outputs": [
    {
     "name": "stdout",
     "output_type": "stream",
     "text": [
      "['Potato', 'Tomato', 'Milk']\n",
      "[2, 7, 9]\n"
     ]
    }
   ],
   "source": [
    "def remove_item(lst, item):\n",
    "    lst.remove(item)\n",
    "    return lst\n",
    "food_staff = ['Potato', 'Tomato', 'Mango', 'Milk']\n",
    "print(remove_item(food_staff, 'Mango'))\n",
    "\n",
    "\n",
    "numbers = [2, 3, 7, 9]\n",
    "print(remove_item(numbers, 3))\n",
    "\n"
   ]
  },
  {
   "cell_type": "markdown",
   "metadata": {},
   "source": [
    "No. 13"
   ]
  },
  {
   "cell_type": "code",
   "execution_count": 60,
   "metadata": {},
   "outputs": [
    {
     "name": "stdout",
     "output_type": "stream",
     "text": [
      "15\n",
      "55\n",
      "5050\n"
     ]
    }
   ],
   "source": [
    "def sum_of_numbers(n):\n",
    "    return sum(range(1, n+1))\n",
    "print(sum_of_numbers(5))\n",
    "\n",
    "print(sum_of_numbers(10))\n",
    "\n",
    "print(sum_of_numbers(100))\n",
    "\n"
   ]
  },
  {
   "cell_type": "markdown",
   "metadata": {},
   "source": [
    "No. 14"
   ]
  },
  {
   "cell_type": "code",
   "execution_count": 61,
   "metadata": {},
   "outputs": [
    {
     "name": "stdout",
     "output_type": "stream",
     "text": [
      "9\n",
      "25\n",
      "2500\n"
     ]
    }
   ],
   "source": [
    "def sum_of_odds(n):\n",
    "    return sum(range(1, n+1, 2))\n",
    "print(sum_of_odds(5))\n",
    "\n",
    "print(sum_of_odds(10))\n",
    "\n",
    "print(sum_of_odds(100))\n",
    "\n"
   ]
  },
  {
   "cell_type": "markdown",
   "metadata": {},
   "source": [
    "No. 15"
   ]
  },
  {
   "cell_type": "code",
   "execution_count": 62,
   "metadata": {},
   "outputs": [
    {
     "name": "stdout",
     "output_type": "stream",
     "text": [
      "6\n",
      "30\n",
      "2550\n"
     ]
    }
   ],
   "source": [
    "def sum_of_even(n):\n",
    "    return sum(range(0, n+1, 2)) \n",
    "print(sum_of_even(5))\n",
    "\n",
    "\n",
    "print(sum_of_even(10))\n",
    "\n",
    "print(sum_of_even(100))\n",
    "\n"
   ]
  },
  {
   "cell_type": "markdown",
   "metadata": {},
   "source": [
    "Exercises: Level 2\n"
   ]
  },
  {
   "cell_type": "code",
   "execution_count": 63,
   "metadata": {},
   "outputs": [
    {
     "name": "stdout",
     "output_type": "stream",
     "text": [
      "The number of odds are 1.\n",
      "The number of evens are 2.\n"
     ]
    }
   ],
   "source": [
    "def evens_and_odds(n):\n",
    "    evens = 0\n",
    "    odds = 0\n",
    "    for digit in str(n):\n",
    "        if int(digit) % 2 == 0:\n",
    "            evens += 1\n",
    "        else:\n",
    "            odds += 1\n",
    "    return f\"The number of odds are {odds}.\\nThe number of evens are {evens}.\"\n",
    "\n",
    "print(evens_and_odds(100))\n",
    "# The number of odds are 1.\n",
    "# The number of evens are 2.\n"
   ]
  },
  {
   "cell_type": "code",
   "execution_count": 65,
   "metadata": {},
   "outputs": [
    {
     "data": {
      "text/plain": [
       "120"
      ]
     },
     "execution_count": 65,
     "metadata": {},
     "output_type": "execute_result"
    }
   ],
   "source": [
    "def factorial(n):\n",
    "    if n < 0:\n",
    "        return \"Error: Factorial is not defined for negative numbers.\"\n",
    "    elif n == 0:\n",
    "        return 1\n",
    "    else:\n",
    "        return n * factorial(n-1)\n",
    "factorial(5)"
   ]
  },
  {
   "cell_type": "code",
   "execution_count": 68,
   "metadata": {},
   "outputs": [
    {
     "name": "stdout",
     "output_type": "stream",
     "text": [
      "3.0\n",
      "3\n",
      "1\n",
      "4\n",
      "2.5\n",
      "1.5811388300841898\n"
     ]
    }
   ],
   "source": [
    "import statistics\n",
    "\n",
    "def calculate_mean(lst):\n",
    "    return sum(lst) / len(lst)\n",
    "\n",
    "def calculate_median(lst):\n",
    "    return statistics.median(lst)\n",
    "\n",
    "def calculate_mode(lst):\n",
    "    return statistics.mode(lst)\n",
    "\n",
    "def calculate_range(lst):\n",
    "    return max(lst) - min(lst)\n",
    "\n",
    "def calculate_variance(lst):\n",
    "    return statistics.variance(lst)\n",
    "\n",
    "def calculate_std(lst):\n",
    "    return statistics.stdev(lst)\n",
    "my_list = [1, 2, 3, 4, 5]\n",
    "print (calculate_mean(my_list))\n",
    "\n",
    "print (calculate_median(my_list))\n",
    "\n",
    "print(calculate_mode(my_list))\n",
    "\n",
    "\n",
    "print(calculate_range(my_list))\n",
    "\n",
    "print(calculate_variance(my_list))\n",
    "print(calculate_std(my_list))\n",
    "\n"
   ]
  },
  {
   "cell_type": "markdown",
   "metadata": {},
   "source": [
    "Exercises Level 3"
   ]
  },
  {
   "cell_type": "code",
   "execution_count": 72,
   "metadata": {},
   "outputs": [
    {
     "name": "stdout",
     "output_type": "stream",
     "text": [
      "False\n"
     ]
    }
   ],
   "source": [
    "def is_prime(n):\n",
    "    \"\"\"\n",
    "    Returns True if n is prime, False otherwise.\n",
    "    \"\"\"\n",
    "    if n < 2:\n",
    "        return False\n",
    "    for i in range(2, int(n ** 0.5) + 1):\n",
    "        if n % i == 0:\n",
    "            return False\n",
    "    return True\n",
    "print(is_prime(1))\n"
   ]
  },
  {
   "cell_type": "code",
   "execution_count": 81,
   "metadata": {},
   "outputs": [
    {
     "name": "stdout",
     "output_type": "stream",
     "text": [
      "True\n"
     ]
    }
   ],
   "source": [
    "def check_unique(lst):\n",
    "    \"\"\"\n",
    "    Returns True if all items in lst are unique, False otherwise.\n",
    "    \n",
    "    \"\"\"\n",
    "    lst = ['A','B','C','D','E']\n",
    "    return len(lst) == len(set(lst))\n",
    "print(check_unique(1))"
   ]
  },
  {
   "cell_type": "code",
   "execution_count": 89,
   "metadata": {},
   "outputs": [
    {
     "name": "stdout",
     "output_type": "stream",
     "text": [
      "True\n"
     ]
    }
   ],
   "source": [
    "def check_data_type(lst):\n",
    "    \"\"\"\n",
    "    Returns True if all items in lst are of the same data type, False otherwise.\n",
    "    \"\"\"\n",
    "    lst = ['apple','banana','boy','girl']\n",
    "    return len(set(map(type, lst))) == 1\n",
    "print (check_data_type('apple'))\n"
   ]
  },
  {
   "cell_type": "code",
   "execution_count": 98,
   "metadata": {},
   "outputs": [
    {
     "name": "stdout",
     "output_type": "stream",
     "text": [
      "True\n",
      "False\n",
      "False\n"
     ]
    }
   ],
   "source": [
    "import keyword\n",
    "\n",
    "def is_valid_variable(variable):\n",
    "    \"\"\"\n",
    "    Returns True if variable is a valid Python variable name, False otherwise.\n",
    "    \"\"\"\n",
    "    if not variable.isidentifier():\n",
    "        return False\n",
    "    if keyword.iskeyword(variable):\n",
    "        return False\n",
    "    return True\n",
    "print (is_valid_variable('hello'))\n",
    "\n",
    "print (is_valid_variable('123'))\n",
    "\n",
    "print(is_valid_variable('if'))\n",
    "\n",
    "\n"
   ]
  },
  {
   "cell_type": "code",
   "execution_count": 104,
   "metadata": {},
   "outputs": [
    {
     "ename": "FileNotFoundError",
     "evalue": "[Errno 2] No such file or directory: 'data/countries-data.json'",
     "output_type": "error",
     "traceback": [
      "\u001b[1;31m---------------------------------------------------------------------------\u001b[0m",
      "\u001b[1;31mFileNotFoundError\u001b[0m                         Traceback (most recent call last)",
      "Cell \u001b[1;32mIn[104], line 28\u001b[0m\n\u001b[0;32m     26\u001b[0m         countries[country[\u001b[38;5;124m'\u001b[39m\u001b[38;5;124mname\u001b[39m\u001b[38;5;124m'\u001b[39m]] \u001b[38;5;241m=\u001b[39m country[\u001b[38;5;124m'\u001b[39m\u001b[38;5;124mpopulation\u001b[39m\u001b[38;5;124m'\u001b[39m]\n\u001b[0;32m     27\u001b[0m     \u001b[38;5;28;01mreturn\u001b[39;00m \u001b[38;5;28msorted\u001b[39m(countries, key\u001b[38;5;241m=\u001b[39mcountries\u001b[38;5;241m.\u001b[39mget, reverse\u001b[38;5;241m=\u001b[39m\u001b[38;5;28;01mTrue\u001b[39;00m)[:n]\n\u001b[1;32m---> 28\u001b[0m \u001b[38;5;28mprint\u001b[39m (\u001b[43mmost_spoken_languages\u001b[49m\u001b[43m(\u001b[49m\u001b[38;5;241;43m10\u001b[39;49m\u001b[43m)\u001b[49m)\n\u001b[0;32m     29\u001b[0m [\u001b[38;5;124m'\u001b[39m\u001b[38;5;124mEnglish\u001b[39m\u001b[38;5;124m'\u001b[39m, \u001b[38;5;124m'\u001b[39m\u001b[38;5;124mSpanish\u001b[39m\u001b[38;5;124m'\u001b[39m, \u001b[38;5;124m'\u001b[39m\u001b[38;5;124mFrench\u001b[39m\u001b[38;5;124m'\u001b[39m, \u001b[38;5;124m'\u001b[39m\u001b[38;5;124mArabic\u001b[39m\u001b[38;5;124m'\u001b[39m, \u001b[38;5;124m'\u001b[39m\u001b[38;5;124mHindi\u001b[39m\u001b[38;5;124m'\u001b[39m, \u001b[38;5;124m'\u001b[39m\u001b[38;5;124mBengali\u001b[39m\u001b[38;5;124m'\u001b[39m, \u001b[38;5;124m'\u001b[39m\u001b[38;5;124mPortuguese\u001b[39m\u001b[38;5;124m'\u001b[39m, \u001b[38;5;124m'\u001b[39m\u001b[38;5;124mRussian\u001b[39m\u001b[38;5;124m'\u001b[39m, \u001b[38;5;124m'\u001b[39m\u001b[38;5;124mJapanese\u001b[39m\u001b[38;5;124m'\u001b[39m, \u001b[38;5;124m'\u001b[39m\u001b[38;5;124mPunjabi\u001b[39m\u001b[38;5;124m'\u001b[39m]\n\u001b[0;32m     31\u001b[0m \u001b[38;5;28mprint\u001b[39m (most_populated_countries(\u001b[38;5;241m10\u001b[39m))\n",
      "Cell \u001b[1;32mIn[104], line 7\u001b[0m, in \u001b[0;36mmost_spoken_languages\u001b[1;34m(n)\u001b[0m\n\u001b[0;32m      3\u001b[0m \u001b[38;5;28;01mdef\u001b[39;00m \u001b[38;5;21mmost_spoken_languages\u001b[39m(n\u001b[38;5;241m=\u001b[39m\u001b[38;5;241m10\u001b[39m):\n\u001b[0;32m      4\u001b[0m \u001b[38;5;250m    \u001b[39m\u001b[38;5;124;03m\"\"\"\u001b[39;00m\n\u001b[0;32m      5\u001b[0m \u001b[38;5;124;03m    Returns a list of the n most spoken languages in the world in descending order.\u001b[39;00m\n\u001b[0;32m      6\u001b[0m \u001b[38;5;124;03m    \"\"\"\u001b[39;00m\n\u001b[1;32m----> 7\u001b[0m     \u001b[38;5;28;01mwith\u001b[39;00m \u001b[38;5;28;43mopen\u001b[39;49m\u001b[43m(\u001b[49m\u001b[38;5;124;43m'\u001b[39;49m\u001b[38;5;124;43mdata/countries-data.json\u001b[39;49m\u001b[38;5;124;43m'\u001b[39;49m\u001b[43m)\u001b[49m \u001b[38;5;28;01mas\u001b[39;00m f:\n\u001b[0;32m      8\u001b[0m         data \u001b[38;5;241m=\u001b[39m json\u001b[38;5;241m.\u001b[39mload(f)\n\u001b[0;32m      9\u001b[0m     languages \u001b[38;5;241m=\u001b[39m {}\n",
      "File \u001b[1;32mc:\\Users\\USER\\AppData\\Local\\Programs\\Python\\Python310\\lib\\site-packages\\IPython\\core\\interactiveshell.py:284\u001b[0m, in \u001b[0;36m_modified_open\u001b[1;34m(file, *args, **kwargs)\u001b[0m\n\u001b[0;32m    277\u001b[0m \u001b[38;5;28;01mif\u001b[39;00m file \u001b[38;5;129;01min\u001b[39;00m {\u001b[38;5;241m0\u001b[39m, \u001b[38;5;241m1\u001b[39m, \u001b[38;5;241m2\u001b[39m}:\n\u001b[0;32m    278\u001b[0m     \u001b[38;5;28;01mraise\u001b[39;00m \u001b[38;5;167;01mValueError\u001b[39;00m(\n\u001b[0;32m    279\u001b[0m         \u001b[38;5;124mf\u001b[39m\u001b[38;5;124m\"\u001b[39m\u001b[38;5;124mIPython won\u001b[39m\u001b[38;5;124m'\u001b[39m\u001b[38;5;124mt let you open fd=\u001b[39m\u001b[38;5;132;01m{\u001b[39;00mfile\u001b[38;5;132;01m}\u001b[39;00m\u001b[38;5;124m by default \u001b[39m\u001b[38;5;124m\"\u001b[39m\n\u001b[0;32m    280\u001b[0m         \u001b[38;5;124m\"\u001b[39m\u001b[38;5;124mas it is likely to crash IPython. If you know what you are doing, \u001b[39m\u001b[38;5;124m\"\u001b[39m\n\u001b[0;32m    281\u001b[0m         \u001b[38;5;124m\"\u001b[39m\u001b[38;5;124myou can use builtins\u001b[39m\u001b[38;5;124m'\u001b[39m\u001b[38;5;124m open.\u001b[39m\u001b[38;5;124m\"\u001b[39m\n\u001b[0;32m    282\u001b[0m     )\n\u001b[1;32m--> 284\u001b[0m \u001b[38;5;28;01mreturn\u001b[39;00m io_open(file, \u001b[38;5;241m*\u001b[39margs, \u001b[38;5;241m*\u001b[39m\u001b[38;5;241m*\u001b[39mkwargs)\n",
      "\u001b[1;31mFileNotFoundError\u001b[0m: [Errno 2] No such file or directory: 'data/countries-data.json'"
     ]
    }
   ],
   "source": [
    "import json\n",
    "\n",
    "def most_spoken_languages(n=10):\n",
    "    \"\"\"\n",
    "    Returns a list of the n most spoken languages in the world in descending order.\n",
    "    \"\"\"\n",
    "    with open('data/countries-data.json') as f:\n",
    "        data = json.load(f)\n",
    "    languages = {}\n",
    "    for country in data:\n",
    "        for language in country['languages']:\n",
    "            if language in languages:\n",
    "                languages[language] += 1\n",
    "            else:\n",
    "                languages[language] = 1\n",
    "    return sorted(languages, key=languages.get, reverse=True)[:n]\n",
    "\n",
    "def most_populated_countries(n=10):\n",
    "    \"\"\"\n",
    "    Returns a list of the n most populated countries in the world in descending order.\n",
    "    \"\"\"\n",
    "    with open('data/countries-data.json') as f:\n",
    "        data = json.load(f)\n",
    "    countries = {}\n",
    "    for country in data:\n",
    "        countries[country['name']] = country['population']\n",
    "    return sorted(countries, key=countries.get, reverse=True)[:n]\n",
    "print (most_spoken_languages(10))\n",
    "\n",
    "print (most_populated_countries(10))\n",
    "\n",
    "\n",
    "\n"
   ]
  }
 ],
 "metadata": {
  "kernelspec": {
   "display_name": "Python 3",
   "language": "python",
   "name": "python3"
  },
  "language_info": {
   "codemirror_mode": {
    "name": "ipython",
    "version": 3
   },
   "file_extension": ".py",
   "mimetype": "text/x-python",
   "name": "python",
   "nbconvert_exporter": "python",
   "pygments_lexer": "ipython3",
   "version": "3.10.10"
  }
 },
 "nbformat": 4,
 "nbformat_minor": 2
}
