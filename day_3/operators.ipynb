{
 "cells": [
  {
   "cell_type": "markdown",
   "metadata": {},
   "source": [
    "NO.1"
   ]
  },
  {
   "cell_type": "code",
   "execution_count": null,
   "metadata": {},
   "outputs": [],
   "source": [
    "Age = 32"
   ]
  },
  {
   "cell_type": "markdown",
   "metadata": {},
   "source": [
    "NO.2"
   ]
  },
  {
   "cell_type": "code",
   "execution_count": null,
   "metadata": {},
   "outputs": [],
   "source": [
    "height = 54.6"
   ]
  },
  {
   "cell_type": "markdown",
   "metadata": {},
   "source": [
    "NO. 3"
   ]
  },
  {
   "cell_type": "code",
   "execution_count": null,
   "metadata": {},
   "outputs": [],
   "source": [
    "complex_num = 4 + 3j"
   ]
  },
  {
   "cell_type": "markdown",
   "metadata": {},
   "source": [
    "NO. 4"
   ]
  },
  {
   "cell_type": "code",
   "execution_count": 45,
   "metadata": {},
   "outputs": [
    {
     "name": "stdout",
     "output_type": "stream",
     "text": [
      "The a area of a triangle is: 100\n"
     ]
    }
   ],
   "source": [
    "base = int (input('Enter the base:'))\n",
    "height = int (input ('Enter the height:'))\n",
    "area = int( 0.5 * base * height)\n",
    "print ('The a area of a triangle is:', area)"
   ]
  },
  {
   "cell_type": "markdown",
   "metadata": {},
   "source": [
    "No. 5"
   ]
  },
  {
   "cell_type": "code",
   "execution_count": 46,
   "metadata": {},
   "outputs": [
    {
     "name": "stdout",
     "output_type": "stream",
     "text": [
      "The perimeter of the triangle is 13\n"
     ]
    }
   ],
   "source": [
    "a = int (input('Enter side a:'))\n",
    "b = int (input('Enter side b:'))\n",
    "c = int (input('Enter side c:'))\n",
    "\n",
    "perimeter = a + b + c\n",
    "print('The perimeter of the triangle is', perimeter)"
   ]
  },
  {
   "cell_type": "markdown",
   "metadata": {},
   "source": [
    "No. 6"
   ]
  },
  {
   "cell_type": "code",
   "execution_count": 47,
   "metadata": {},
   "outputs": [
    {
     "name": "stdout",
     "output_type": "stream",
     "text": [
      "The area of a rectangle is 144\n",
      "The perimeter of the rectangle is 48\n"
     ]
    }
   ],
   "source": [
    "length = int (input('Enter length:'))\n",
    "width = int (input('Enter width:'))\n",
    "area = length * width \n",
    "perimeter = 2 * (length + width)\n",
    "print('The area of a rectangle is',area)\n",
    "print('The perimeter of the rectangle is', perimeter)"
   ]
  },
  {
   "cell_type": "markdown",
   "metadata": {},
   "source": [
    "No. 7"
   ]
  },
  {
   "cell_type": "code",
   "execution_count": 49,
   "metadata": {},
   "outputs": [
    {
     "name": "stdout",
     "output_type": "stream",
     "text": [
      "The area of the circle is : 452.15999999999997\n",
      "The circumference of the circle is 75.36\n"
     ]
    }
   ],
   "source": [
    "import math\n",
    "radius = int (input('Enter radius:'))\n",
    "pi = 3.14\n",
    "area = pi * radius * radius \n",
    "circumference  = 2 * pi * radius\n",
    "print('The area of the circle is :', area)\n",
    "print('The circumference of the circle is', circumference)"
   ]
  },
  {
   "cell_type": "markdown",
   "metadata": {},
   "source": [
    "No. 8"
   ]
  },
  {
   "cell_type": "code",
   "execution_count": 50,
   "metadata": {},
   "outputs": [
    {
     "name": "stdout",
     "output_type": "stream",
     "text": [
      "Slope: 2\n",
      "X-intercept: 1.0\n",
      "Y-intercept: -2\n"
     ]
    }
   ],
   "source": [
    "# Equation: y = 2x - 2\n",
    "\n",
    "# Calculating the slope\n",
    "slope = 2\n",
    "\n",
    "# Calculating the x-intercept\n",
    "x_intercept = 2/slope\n",
    "\n",
    "# Calculating the y-intercept\n",
    "y_intercept = -2\n",
    "\n",
    "# Printing the results\n",
    "print(f\"Slope: {slope}\")\n",
    "print(f\"X-intercept: {x_intercept}\")\n",
    "print(f\"Y-intercept: {y_intercept}\")"
   ]
  },
  {
   "cell_type": "markdown",
   "metadata": {},
   "source": [
    "No. 9"
   ]
  },
  {
   "cell_type": "code",
   "execution_count": 51,
   "metadata": {},
   "outputs": [
    {
     "name": "stdout",
     "output_type": "stream",
     "text": [
      "Slope:  2.0\n",
      "Euclidean Distance:  8.94427190999916\n"
     ]
    }
   ],
   "source": [
    "import math\n",
    "\n",
    "def find_slope(x1, y1, x2, y2):\n",
    "    slope = (y2 - y1) / (x2 - x1)\n",
    "    return slope\n",
    "\n",
    "def euclidean_distance(x1, y1, x2, y2):\n",
    "    distance = math.sqrt((x2 - x1) ** 2 + (y2 - y1) ** 2)\n",
    "    return distance\n",
    "\n",
    "# Testing the functions\n",
    "\n",
    "point1 = (2, 2)\n",
    "point2 = (6, 10)\n",
    "\n",
    "x1, y1 = point1\n",
    "x2, y2 = point2\n",
    "\n",
    "slope = find_slope(x1, y1, x2, y2)\n",
    "distance = euclidean_distance(x1, y1, x2, y2)\n",
    "\n",
    "print(\"Slope: \", slope)\n",
    "print(\"Euclidean Distance: \", distance)"
   ]
  },
  {
   "cell_type": "markdown",
   "metadata": {},
   "source": [
    "No. 10\n",
    "Answer: The slope of task 8 and 9 is the same."
   ]
  },
  {
   "cell_type": "markdown",
   "metadata": {},
   "source": [
    "No. 11"
   ]
  },
  {
   "cell_type": "code",
   "execution_count": 54,
   "metadata": {},
   "outputs": [
    {
     "name": "stdout",
     "output_type": "stream",
     "text": [
      "The value of y is 11\n"
     ]
    }
   ],
   "source": [
    "x = int(input('Enter the the value of x: '))\n",
    "y  = (x^2 + 6 * x + 9)\n",
    "print('The value of y is', y)"
   ]
  },
  {
   "cell_type": "markdown",
   "metadata": {},
   "source": [
    "N0. 12"
   ]
  },
  {
   "cell_type": "code",
   "execution_count": 56,
   "metadata": {},
   "outputs": [
    {
     "name": "stdout",
     "output_type": "stream",
     "text": [
      "6\n",
      "6\n",
      "False\n"
     ]
    }
   ],
   "source": [
    "print(len('python'))\n",
    "print(len('dragon'))\n",
    "print(len('python')> len('dragon'))"
   ]
  },
  {
   "cell_type": "markdown",
   "metadata": {},
   "source": [
    "No. 13"
   ]
  },
  {
   "cell_type": "code",
   "execution_count": 57,
   "metadata": {},
   "outputs": [
    {
     "name": "stdout",
     "output_type": "stream",
     "text": [
      "True\n"
     ]
    }
   ],
   "source": [
    "print(('on' in 'Python') and('on' in 'dragon'))"
   ]
  },
  {
   "cell_type": "markdown",
   "metadata": {},
   "source": [
    "No. 14"
   ]
  },
  {
   "cell_type": "code",
   "execution_count": 58,
   "metadata": {},
   "outputs": [
    {
     "name": "stdout",
     "output_type": "stream",
     "text": [
      "True\n"
     ]
    }
   ],
   "source": [
    "sting = 'I hope this course is not full of jargon'\n",
    "print('jargon' in sting)"
   ]
  },
  {
   "cell_type": "markdown",
   "metadata": {},
   "source": [
    "No. 15"
   ]
  },
  {
   "cell_type": "code",
   "execution_count": 59,
   "metadata": {},
   "outputs": [
    {
     "name": "stdout",
     "output_type": "stream",
     "text": [
      "False\n"
     ]
    }
   ],
   "source": [
    "print(('on') not in ('python' and 'dragon'))"
   ]
  },
  {
   "cell_type": "markdown",
   "metadata": {},
   "source": [
    "No. 16"
   ]
  },
  {
   "cell_type": "code",
   "execution_count": 3,
   "metadata": {},
   "outputs": [
    {
     "name": "stdout",
     "output_type": "stream",
     "text": [
      "6\n",
      "6.0\n",
      "6\n"
     ]
    }
   ],
   "source": [
    "text = 'python'\n",
    "print(len(text))\n",
    "print(float(len(text)))\n",
    "print(str(len(text)))"
   ]
  },
  {
   "cell_type": "markdown",
   "metadata": {},
   "source": [
    "No. 17"
   ]
  },
  {
   "cell_type": "markdown",
   "metadata": {},
   "source": [
    "No. 18"
   ]
  },
  {
   "cell_type": "code",
   "execution_count": 5,
   "metadata": {},
   "outputs": [
    {
     "name": "stdout",
     "output_type": "stream",
     "text": [
      "2\n",
      "1\n"
     ]
    }
   ],
   "source": [
    "print(7//3)"
   ]
  },
  {
   "cell_type": "markdown",
   "metadata": {},
   "source": [
    "No. 19"
   ]
  },
  {
   "cell_type": "code",
   "execution_count": 6,
   "metadata": {},
   "outputs": [
    {
     "name": "stdout",
     "output_type": "stream",
     "text": [
      "<class 'str'>\n",
      "<class 'int'>\n"
     ]
    }
   ],
   "source": [
    "print(type('10'))\n",
    "print(type(10))"
   ]
  },
  {
   "cell_type": "markdown",
   "metadata": {},
   "source": [
    "No. 20"
   ]
  },
  {
   "cell_type": "code",
   "execution_count": 10,
   "metadata": {},
   "outputs": [
    {
     "name": "stdout",
     "output_type": "stream",
     "text": [
      "9\n"
     ]
    }
   ],
   "source": [
    "num = 9.8\n",
    "print(int(num))"
   ]
  },
  {
   "cell_type": "markdown",
   "metadata": {},
   "source": [
    "No. 21"
   ]
  },
  {
   "cell_type": "code",
   "execution_count": 11,
   "metadata": {},
   "outputs": [
    {
     "name": "stdout",
     "output_type": "stream",
     "text": [
      "Your weekly earning is 800\n"
     ]
    }
   ],
   "source": [
    "hour = int (input(\"Enter hour:\"))\n",
    "rate = int (input('Enter rate:'))\n",
    "earning = hour*rate\n",
    "print('Your weekly earning is',earning)"
   ]
  },
  {
   "cell_type": "markdown",
   "metadata": {},
   "source": [
    "NO. 22"
   ]
  },
  {
   "cell_type": "markdown",
   "metadata": {},
   "source": [
    "NO. 23"
   ]
  },
  {
   "cell_type": "code",
   "execution_count": 7,
   "metadata": {},
   "outputs": [
    {
     "name": "stdout",
     "output_type": "stream",
     "text": [
      "1\t1\t1\t1\t1\n",
      "2\t1\t2\t4\t8\n",
      "3\t1\t3\t9\t27\n",
      "4\t1\t4\t16\t64\n",
      "5\t1\t5\t25\t125\n"
     ]
    }
   ],
   "source": [
    "print('1\\t1\\t1\\t1\\t1')\n",
    "print('2\\t1\\t2\\t4\\t8')\n",
    "print('3\\t1\\t3\\t9\\t27')\n",
    "print('4\\t1\\t4\\t16\\t64')\n",
    "print('5\\t1\\t5\\t25\\t125')"
   ]
  }
 ],
 "metadata": {
  "kernelspec": {
   "display_name": "Python 3",
   "language": "python",
   "name": "python3"
  },
  "language_info": {
   "codemirror_mode": {
    "name": "ipython",
    "version": 3
   },
   "file_extension": ".py",
   "mimetype": "text/x-python",
   "name": "python",
   "nbconvert_exporter": "python",
   "pygments_lexer": "ipython3",
   "version": "3.10.10"
  }
 },
 "nbformat": 4,
 "nbformat_minor": 2
}
