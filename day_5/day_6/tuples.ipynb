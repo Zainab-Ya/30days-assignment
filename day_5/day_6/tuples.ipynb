{
 "cells": [
  {
   "cell_type": "markdown",
   "metadata": {},
   "source": [
    "Exercise Level 1\n",
    "\n",
    "No.1"
   ]
  },
  {
   "cell_type": "code",
   "execution_count": 1,
   "metadata": {},
   "outputs": [
    {
     "name": "stdout",
     "output_type": "stream",
     "text": [
      "()\n"
     ]
    }
   ],
   "source": [
    "empty_tuple = ()\n",
    "print(empty_tuple)"
   ]
  },
  {
   "cell_type": "markdown",
   "metadata": {},
   "source": [
    "No. 2"
   ]
  },
  {
   "cell_type": "code",
   "execution_count": 2,
   "metadata": {},
   "outputs": [
    {
     "name": "stdout",
     "output_type": "stream",
     "text": [
      "('Maryam', 'Hafsat', 'Saadatu', 'Aisha', 'Khadija')\n",
      "('Abubakar', 'Abdurrashid', 'Abdulaziz', 'Ismail')\n"
     ]
    }
   ],
   "source": [
    "sisters = ('Maryam','Hafsat','Saadatu','Aisha','Khadija')\n",
    "print(sisters)\n",
    "brothers = ('Abubakar','Abdurrashid','Abdulaziz','Ismail')\n",
    "print(brothers)"
   ]
  },
  {
   "cell_type": "markdown",
   "metadata": {},
   "source": [
    "No.3"
   ]
  },
  {
   "cell_type": "code",
   "execution_count": 3,
   "metadata": {},
   "outputs": [
    {
     "name": "stdout",
     "output_type": "stream",
     "text": [
      "('Maryam', 'Hafsat', 'Saadatu', 'Aisha', 'Khadija', 'Abubakar', 'Abdurrashid', 'Abdulaziz', 'Ismail')\n"
     ]
    }
   ],
   "source": [
    "siblings = sisters + brothers\n",
    "print(siblings)"
   ]
  },
  {
   "cell_type": "markdown",
   "metadata": {},
   "source": [
    "No.4"
   ]
  },
  {
   "cell_type": "code",
   "execution_count": 4,
   "metadata": {},
   "outputs": [
    {
     "name": "stdout",
     "output_type": "stream",
     "text": [
      "9\n"
     ]
    }
   ],
   "source": [
    "print(len(siblings))"
   ]
  },
  {
   "cell_type": "markdown",
   "metadata": {},
   "source": [
    "No. 5"
   ]
  },
  {
   "cell_type": "code",
   "execution_count": 10,
   "metadata": {},
   "outputs": [
    {
     "name": "stdout",
     "output_type": "stream",
     "text": [
      "('Maryam', 'Hafsat', 'Saadatu', 'Aisha', 'Khadija')\n",
      "('Abubakar', 'Abdurrashid', 'Abdulaziz', 'Ismail')\n",
      "('Maryam', 'Hafsat', 'Saadatu', 'Aisha', 'Khadija', 'Abubakar', 'Abdurrashid', 'Abdulaziz', 'Ismail')\n",
      "['Muhammad', 'Hafsat', 'Saadatu', 'Aisha', 'Khadija', 'Abubakar', 'Abdurrashid', 'Abdulaziz', 'Ismail']\n",
      "('Muhammad', 'Hafsat', 'Saadatu', 'Aisha', 'Khadija', 'Abubakar', 'Abdurrashid', 'Abdulaziz', 'Ismail')\n"
     ]
    }
   ],
   "source": [
    "sisters = ('Maryam','Hafsat','Saadatu','Aisha','Khadija')\n",
    "print(sisters)\n",
    "brothers = ('Abubakar','Abdurrashid','Abdulaziz','Ismail')\n",
    "print(brothers)\n",
    "siblings = sisters + brothers\n",
    "family_members =   siblings\n",
    "print(family_members)\n",
    "family_members = list(siblings)\n",
    "family_members[0] = 'Fatima'\n",
    "family_members[0] = 'Muhammad'\n",
    "print(family_members)\n",
    "family_members = tuple(family_members)\n",
    "print(family_members)\n",
    "\n"
   ]
  },
  {
   "cell_type": "markdown",
   "metadata": {},
   "source": [
    "Exercise Level 2"
   ]
  },
  {
   "cell_type": "code",
   "execution_count": 56,
   "metadata": {},
   "outputs": [
    {
     "name": "stdout",
     "output_type": "stream",
     "text": [
      "('Guava', 'coconut', 'sugar cane', 'salad', 'lettuce', 'milk', 'cheese')\n",
      "['Guava', 'coconut', 'sugar cane', 'salad', 'lettuce', 'milk', 'cheese']\n",
      "salad\n",
      "['Guava', 'coconut', 'sugar cane']\n",
      "['lettuce', 'milk', 'cheese']\n",
      "('Guava', 'coconut', 'sugar cane', 'salad', 'lettuce', 'milk', 'cheese')\n"
     ]
    }
   ],
   "source": [
    "fruits = ('Guava','coconut','sugar cane') #tuples of fruits\n",
    "vegetables = ('salad','lettuce') # tuples for fruits\n",
    "animal_products =('milk','cheese') # examples of animal products\n",
    "food_stuff_tp = fruits + vegetables + animal_products # joining the tuples\n",
    "print(food_stuff_tp)\n",
    "food_stuff_lt =list(food_stuff_tp) #changing tuple to a list\n",
    "print(food_stuff_lt)\n",
    "middle_item = food_stuff_lt[3] #slicing middle item\n",
    "print(middle_item)\n",
    "first_three_items = food_stuff_lt[0:3] #slicing first three\n",
    "print(first_three_items)\n",
    "last_three_items = food_stuff_lt[-3:7] #slicing last three\n",
    "print(last_three_items)\n",
    "food_stuff_tp = tuple (food_stuff_lt)\n",
    "print(food_stuff_tp)\n",
    "del food_stuff_tp\n",
    "\n",
    "\n"
   ]
  },
  {
   "cell_type": "code",
   "execution_count": 4,
   "metadata": {},
   "outputs": [
    {
     "name": "stdout",
     "output_type": "stream",
     "text": [
      "('Denmark', 'Finland', 'Iceland', 'Norway', 'Sweden')\n",
      "False\n",
      "True\n"
     ]
    }
   ],
   "source": [
    "nordic_countries = ('Denmark', 'Finland','Iceland', 'Norway', 'Sweden')\n",
    "print(nordic_countries)\n",
    "print('Estonia' in nordic_countries)\n",
    "print('Iceland' in nordic_countries)\n"
   ]
  }
 ],
 "metadata": {
  "kernelspec": {
   "display_name": "Python 3",
   "language": "python",
   "name": "python3"
  },
  "language_info": {
   "codemirror_mode": {
    "name": "ipython",
    "version": 3
   },
   "file_extension": ".py",
   "mimetype": "text/x-python",
   "name": "python",
   "nbconvert_exporter": "python",
   "pygments_lexer": "ipython3",
   "version": "3.10.10"
  }
 },
 "nbformat": 4,
 "nbformat_minor": 2
}
