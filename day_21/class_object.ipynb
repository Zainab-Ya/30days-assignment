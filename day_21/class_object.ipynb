{
 "cells": [
  {
   "cell_type": "markdown",
   "metadata": {},
   "source": [
    "## Exercises: Level 1\n",
    "No. 1"
   ]
  },
  {
   "cell_type": "code",
   "execution_count": 6,
   "metadata": {},
   "outputs": [
    {
     "name": "stdout",
     "output_type": "stream",
     "text": [
      "Mean: 5.5\n",
      "Median: 5.5\n",
      "Mode: 1\n",
      "Range: 9\n",
      "Variance: 9.166666666666666\n",
      "Standard Deviation: 3.0276503540974917\n",
      "Minimum: 1\n",
      "Maximum: 10\n",
      "Count: 10\n",
      "Frequency Distribution: {1: 1, 2: 1, 3: 1, 4: 1, 5: 1, 6: 1, 7: 1, 8: 1, 9: 1, 10: 1}\n"
     ]
    }
   ],
   "source": [
    "import statistics\n",
    "\n",
    "class Statistics:\n",
    "    def __init__(self, data):\n",
    "        self.data = data\n",
    "\n",
    "    def mean(self):\n",
    "        return statistics.mean(self.data)\n",
    "\n",
    "    def median(self):\n",
    "        return statistics.median(self.data)\n",
    "\n",
    "    def mode(self):\n",
    "        return statistics.mode(self.data)\n",
    "\n",
    "    def range(self):\n",
    "        return max(self.data) - min(self.data)\n",
    "\n",
    "    def variance(self):\n",
    "        return statistics.variance(self.data)\n",
    "\n",
    "    def stdev(self):\n",
    "        return statistics.stdev(self.data)\n",
    "\n",
    "    def minimum(self):\n",
    "        return min(self.data)\n",
    "\n",
    "    def maximum(self):\n",
    "        return max(self.data)\n",
    "\n",
    "    def count(self):\n",
    "        return len(self.data)\n",
    "\n",
    "    def percentile(self):\n",
    "        return statistics.percentile(self.data)\n",
    "\n",
    "    def frequency_distribution(self):\n",
    "        freq_dict = {}\n",
    "        for item in self.data:\n",
    "            if item in freq_dict:\n",
    "                freq_dict[item] += 1\n",
    "            else:\n",
    "                freq_dict[item] = 1\n",
    "        return freq_dict\n",
    "data = [1, 2, 3, 4, 5, 6, 7, 8, 9, 10]\n",
    "stats = Statistics(data)\n",
    "print(\"Mean:\", stats.mean())\n",
    "print(\"Median:\", stats.median())\n",
    "print(\"Mode:\", stats.mode())\n",
    "print(\"Range:\", stats.range())\n",
    "print(\"Variance:\", stats.variance())\n",
    "print(\"Standard Deviation:\", stats.stdev())\n",
    "print(\"Minimum:\", stats.minimum())\n",
    "print(\"Maximum:\", stats.maximum())\n",
    "print(\"Count:\", stats.count())\n",
    "print(\"Frequency Distribution:\", stats.frequency_distribution())\n"
   ]
  },
  {
   "cell_type": "markdown",
   "metadata": {},
   "source": [
    "### Exercises: Level 2"
   ]
  },
  {
   "cell_type": "code",
   "execution_count": 4,
   "metadata": {},
   "outputs": [
    {
     "name": "stdout",
     "output_type": "stream",
     "text": [
      "John Doe has 2 incomes and 2 expenses.\n",
      "Total Income: 6000\n",
      "Total Expense: 2000\n",
      "Account Balance: 4000\n"
     ]
    }
   ],
   "source": [
    "class PersonAccount:\n",
    "    def __init__(self, firstname, lastname):\n",
    "        self.firstname = firstname\n",
    "        self.lastname = lastname\n",
    "        self.incomes = {}\n",
    "        self.expenses = {}\n",
    "\n",
    "    def total_income(self):\n",
    "        return sum(self.incomes.values())\n",
    "\n",
    "    def total_expense(self):\n",
    "        return sum(self.expenses.values())\n",
    "\n",
    "    def account_info(self):\n",
    "        return f\"{self.firstname} {self.lastname} has {len(self.incomes)} incomes and {len(self.expenses)} expenses.\"\n",
    "\n",
    "    def add_income(self, description, amount):\n",
    "        self.incomes[description] = amount\n",
    "\n",
    "    def add_expense(self, description, amount):\n",
    "        self.expenses[description] = amount\n",
    "\n",
    "    def account_balance(self):\n",
    "        return self.total_income() - self.total_expense()\n",
    "person = PersonAccount('John', 'Doe')\n",
    "person.add_income('Salary', 5000)\n",
    "person.add_income('Bonus', 1000)\n",
    "person.add_expense('Rent', 1500)\n",
    "person.add_expense('Groceries', 500)\n",
    "print(person.account_info())\n",
    "print('Total Income:', person.total_income())\n",
    "print('Total Expense:', person.total_expense())\n",
    "print('Account Balance:', person.account_balance())\n"
   ]
  }
 ],
 "metadata": {
  "kernelspec": {
   "display_name": "Python 3",
   "language": "python",
   "name": "python3"
  },
  "language_info": {
   "codemirror_mode": {
    "name": "ipython",
    "version": 3
   },
   "file_extension": ".py",
   "mimetype": "text/x-python",
   "name": "python",
   "nbconvert_exporter": "python",
   "pygments_lexer": "ipython3",
   "version": "3.10.10"
  }
 },
 "nbformat": 4,
 "nbformat_minor": 2
}
