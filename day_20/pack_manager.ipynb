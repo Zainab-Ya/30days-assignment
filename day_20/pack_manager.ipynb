{
 "cells": [
  {
   "cell_type": "markdown",
   "metadata": {},
   "source": [
    "## Exercises: Day 20\n",
    "No. 1"
   ]
  },
  {
   "cell_type": "code",
   "execution_count": null,
   "metadata": {},
   "outputs": [],
   "source": [
    "import urllib.request\n",
    "from collections import Counter\n",
    "\n",
    "url = 'http://www.gutenberg.org/files/1112/1112.txt'\n",
    "response = urllib.request.urlopen(url)\n",
    "data = response.read().decode('utf-8')\n",
    "\n",
    "words = data.split()\n",
    "word_counts = Counter(words)\n",
    "\n",
    "for word, count in word_counts.most_common(10):\n",
    "    print(word, count)\n"
   ]
  },
  {
   "cell_type": "markdown",
   "metadata": {},
   "source": [
    "No.2"
   ]
  },
  {
   "cell_type": "code",
   "execution_count": null,
   "metadata": {},
   "outputs": [],
   "source": [
    "import urllib.request\n",
    "import json\n",
    "import statistics\n",
    "\n",
    "url = 'https://api.thecatapi.com/v1/breeds'\n",
    "response = urllib.request.urlopen(url)\n",
    "data = response.read().decode('utf-8')\n",
    "breeds = json.loads(data)\n",
    "\n",
    "weights = [breed['weight']['metric'] for breed in breeds]\n",
    "weights = [float(w.split()[0]) for w in weights]\n",
    "\n",
    "minimum = min(weights)\n",
    "maximum = max(weights)\n",
    "mean = statistics.mean(weights)\n",
    "median = statistics.median(weights)\n",
    "std_dev = statistics.stdev(weights)\n",
    "\n",
    "print(f\"Minimum weight: **{minimum}** kg.\")\n",
    "print(f\"Maximum weight: **{maximum}** kg.\")\n",
    "print(f\"Mean weight: **{mean:.2f}** kg.\")\n",
    "print(f\"Median weight: **{median:.2f}** kg.\")\n",
    "print(f\"Standard deviation of weight: **{std_dev:.2f}** kg.\")\n"
   ]
  },
  {
   "cell_type": "markdown",
   "metadata": {},
   "source": [
    "No. 3"
   ]
  },
  {
   "cell_type": "code",
   "execution_count": null,
   "metadata": {},
   "outputs": [],
   "source": [
    "import requests\n",
    "\n",
    "url = 'https://restcountries.eu/rest/v2/all'\n",
    "response = requests.get(url)\n",
    "data = response.json()\n",
    "\n",
    "# 10 largest countries by area\n",
    "largest_countries = sorted(data, key=lambda x: x['area'], reverse=True)[:10]\n",
    "print('10 largest countries by area:')\n",
    "for country in largest_countries:\n",
    "    print(f\"- {country['name']} ({country['area']} km²)\")\n",
    "\n",
    "# 10 most spoken languages\n",
    "languages = {}\n",
    "for country in data:\n",
    "    for language in country['languages']:\n",
    "        if language['name'] in languages:\n",
    "            languages[language['name']] += 1\n",
    "        else:\n",
    "            languages[language['name']] = 1\n",
    "most_spoken = sorted(languages.items(), key=lambda x: x[1], reverse=True)[:10]\n",
    "print('\\n10 most spoken languages:')\n",
    "for language, count in most_spoken:\n",
    "    print(f\"- {language} ({count} countries)\")\n",
    "\n",
    "# Total number of languages\n",
    "total_languages = len(languages)\n",
    "print(f\"\\nTotal number of languages: {total_languages}\")\n"
   ]
  },
  {
   "cell_type": "markdown",
   "metadata": {},
   "source": [
    "No. 4"
   ]
  },
  {
   "cell_type": "code",
   "execution_count": 5,
   "metadata": {},
   "outputs": [
    {
     "name": "stdout",
     "output_type": "stream",
     "text": [
      "Here are the names of some datasets available at the UCI Machine Learning Repository:\n",
      "\n"
     ]
    }
   ],
   "source": [
    "import requests\n",
    "from bs4 import BeautifulSoup\n",
    "\n",
    "url = 'https://archive.ics.uci.edu/ml/datasets.php'\n",
    "response = requests.get(url)\n",
    "soup = BeautifulSoup(response.content, 'html.parser')\n",
    "\n",
    "# Find all the dataset names\n",
    "dataset_names = [a.text for a in soup.find_all('a') if 'datasets/' in a['href']]\n",
    "\n",
    "# Print the dataset names\n",
    "print(f\"Here are the names of some datasets available at the UCI Machine Learning Repository:\\n\")\n",
    "for name in dataset_names:\n",
    "    print(f\"- {name}\")\n"
   ]
  }
 ],
 "metadata": {
  "kernelspec": {
   "display_name": "Python 3",
   "language": "python",
   "name": "python3"
  },
  "language_info": {
   "codemirror_mode": {
    "name": "ipython",
    "version": 3
   },
   "file_extension": ".py",
   "mimetype": "text/x-python",
   "name": "python",
   "nbconvert_exporter": "python",
   "pygments_lexer": "ipython3",
   "version": "3.10.10"
  }
 },
 "nbformat": 4,
 "nbformat_minor": 2
}
