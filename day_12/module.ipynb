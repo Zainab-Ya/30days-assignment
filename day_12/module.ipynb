{
 "cells": [
  {
   "cell_type": "markdown",
   "metadata": {},
   "source": [
    "Exercise Level 1\n",
    "No. 1"
   ]
  },
  {
   "cell_type": "code",
   "execution_count": 1,
   "metadata": {},
   "outputs": [
    {
     "name": "stdout",
     "output_type": "stream",
     "text": [
      "fae843\n"
     ]
    }
   ],
   "source": [
    "import random\n",
    "\n",
    "def random_user_id():\n",
    "    return '{:06x}'.format(random.randint(0, 0xFFFFFF))\n",
    "\n",
    "print(random_user_id())\n"
   ]
  },
  {
   "cell_type": "markdown",
   "metadata": {},
   "source": [
    "No. 2"
   ]
  },
  {
   "cell_type": "code",
   "execution_count": 7,
   "metadata": {},
   "outputs": [
    {
     "name": "stdout",
     "output_type": "stream",
     "text": [
      "Whtm5\n",
      "RLrx4\n",
      "Q4LDo\n",
      "w0VOt\n",
      "NIxSx\n",
      "B54yjdIUydE1Zi96\n",
      "WweTnHR1RF4DOQwx\n",
      "vjsqLaNsVPf9wt7T\n",
      "q6A9VNF6cS7An2PX\n",
      "rgT1zcdgsFrZkVtS\n"
     ]
    }
   ],
   "source": [
    "import random\n",
    "\n",
    "def user_id_gen_by_user():\n",
    "    num_chars = int(input(\"Enter the number of characters: \"))\n",
    "    num_ids = int(input(\"Enter the number of IDs to generate: \"))\n",
    "    for i in range(num_ids):\n",
    "        user_id = ''.join(random.choices('abcdefghijklmnopqrstuvwxyzABCDEFGHIJKLMNOPQRSTUVWXYZ0123456789', k=num_chars))\n",
    "        print(user_id)\n",
    "user_id_gen_by_user() # user input: 5 5\n",
    "# Output:\n",
    "# kcsy2\n",
    "# SMFYb\n",
    "# bWmeq\n",
    "# ZXOYh\n",
    "# 2Rgxf\n",
    "\n",
    "user_id_gen_by_user() # user input: 16 5\n",
    "# Output:\n",
    "# 1GCSgPLMaBAVQZ26\n",
    "# YD7eFwNQKNs7qXaT\n",
    "# ycArC5yrRupyG00S\n",
    "# UbGxOFI7UXSWAyKN\n",
    "# dIV0SSUTgAdKwStr\n"
   ]
  },
  {
   "cell_type": "markdown",
   "metadata": {},
   "source": [
    "No. 3"
   ]
  },
  {
   "cell_type": "code",
   "execution_count": 8,
   "metadata": {},
   "outputs": [
    {
     "name": "stdout",
     "output_type": "stream",
     "text": [
      "rgb(141,86,214)\n"
     ]
    }
   ],
   "source": [
    "import random\n",
    "\n",
    "def rgb_color_gen():\n",
    "    r = random.randint(0, 255)\n",
    "    g = random.randint(0, 255)\n",
    "    b = random.randint(0, 255)\n",
    "    return f\"rgb({r},{g},{b})\"\n",
    "print(rgb_color_gen()) \n"
   ]
  },
  {
   "cell_type": "markdown",
   "metadata": {},
   "source": [
    "Exercises Level 2"
   ]
  },
  {
   "cell_type": "code",
   "execution_count": 9,
   "metadata": {},
   "outputs": [
    {
     "name": "stdout",
     "output_type": "stream",
     "text": [
      "['#a34feb', '#54db13', '#ef6c0b', '#2d5a4d', '#a534aa']\n",
      "['#bdfd10', '#e0b406', '#939ca5']\n"
     ]
    }
   ],
   "source": [
    "import random\n",
    "\n",
    "def list_of_hex_colors(num_colors):\n",
    "    colors = []\n",
    "    for i in range(num_colors):\n",
    "        color = ''.join([random.choice('0123456789abcdef') for j in range(6)])\n",
    "        colors.append(f\"#{color}\")\n",
    "    return colors\n",
    "print(list_of_hex_colors(5)) \n",
    "print(list_of_hex_colors(3)) \n",
    "\n",
    "\n"
   ]
  },
  {
   "cell_type": "code",
   "execution_count": 10,
   "metadata": {},
   "outputs": [
    {
     "name": "stdout",
     "output_type": "stream",
     "text": [
      "['#f80547', '#9fce7a', '#e0bdea', '#ab9d68', '#c6037a']\n",
      "['rgb(149,224,111)', 'rgb(70,6,41)', 'rgb(216,80,11)']\n"
     ]
    }
   ],
   "source": [
    "import random\n",
    "\n",
    "def generate_colors(num_colors, color_format):\n",
    "    colors = []\n",
    "    for i in range(num_colors):\n",
    "        if color_format == \"hex\":\n",
    "            color = ''.join([random.choice('0123456789abcdef') for j in range(6)])\n",
    "            colors.append(f\"#{color}\")\n",
    "        elif color_format == \"rgb\":\n",
    "            r = random.randint(0, 255)\n",
    "            g = random.randint(0, 255)\n",
    "            b = random.randint(0, 255)\n",
    "            colors.append(f\"rgb({r},{g},{b})\")\n",
    "        else:\n",
    "            return \"Invalid color format. Please choose 'hex' or 'rgb'.\"\n",
    "    return colors\n",
    "print(generate_colors(5, \"hex\")) # Output: ['#d4f7e1', '#f7d4e1', '#d4e1f7', '#f7e1d4', '#e1d4f7']\n",
    "print(generate_colors(3, \"rgb\")) # Output: ['rgb(125,244,255)', 'rgb(255,12,34)', 'rgb(0,128,255)']\n"
   ]
  },
  {
   "cell_type": "code",
   "execution_count": 11,
   "metadata": {},
   "outputs": [
    {
     "name": "stdout",
     "output_type": "stream",
     "text": [
      "['#6e3cea', '#c2e2d4', '#096983']\n",
      "['#203e62']\n",
      "['rgb(180,7,162)', 'rgb(66,190,213)', 'rgb(176,2,65)']\n",
      "['rgb(15,64,28)']\n"
     ]
    }
   ],
   "source": [
    "import random\n",
    "\n",
    "def generate_colors(color_format, num_colors):\n",
    "    colors = []\n",
    "    for i in range(num_colors):\n",
    "        if color_format == \"hex\":\n",
    "            color = ''.join([random.choice('0123456789abcdef') for j in range(6)])\n",
    "            colors.append(f\"#{color}\")\n",
    "        elif color_format == \"rgb\":\n",
    "            r = random.randint(0, 255)\n",
    "            g = random.randint(0, 255)\n",
    "            b = random.randint(0, 255)\n",
    "            colors.append(f\"rgb({r},{g},{b})\")\n",
    "        else:\n",
    "            return \"Invalid color format. Please choose 'hexa' or 'rgb'.\"\n",
    "    return colors\n",
    "print(generate_colors(\"hex\", 3)) # Output: ['#a3e12f', '#03ed55', '#eb3d2b']\n",
    "print(generate_colors(\"hex\", 1)) # Output: ['#b334ef']\n",
    "print(generate_colors(\"rgb\", 3)) # Output: ['rgb(5, 55, 175)', 'rgb(50, 105, 100)', 'rgb(15, 26, 80)']\n",
    "print(generate_colors(\"rgb\", 1)) # Output: ['rgb(33, 79, 176)']\n"
   ]
  },
  {
   "cell_type": "markdown",
   "metadata": {},
   "source": [
    "Exercises Level 3"
   ]
  },
  {
   "cell_type": "code",
   "execution_count": 12,
   "metadata": {},
   "outputs": [
    {
     "name": "stdout",
     "output_type": "stream",
     "text": [
      "[2, 4, 3, 1, 5]\n"
     ]
    }
   ],
   "source": [
    "import random\n",
    "\n",
    "def shuffle_list(lst):\n",
    "    random.shuffle(lst)\n",
    "    return lst\n",
    "my_list = [1, 2, 3, 4, 5]\n",
    "print(shuffle_list(my_list)) \n"
   ]
  },
  {
   "cell_type": "code",
   "execution_count": 13,
   "metadata": {},
   "outputs": [
    {
     "name": "stdout",
     "output_type": "stream",
     "text": [
      "[7, 5, 2, 6, 8, 0, 4]\n"
     ]
    }
   ],
   "source": [
    "import random\n",
    "\n",
    "def generate_random_numbers():\n",
    "    return random.sample(range(10), 7)\n",
    "print(generate_random_numbers()) # Output: [3, 9, 2, 5, 8, 1, 0]\n"
   ]
  }
 ],
 "metadata": {
  "kernelspec": {
   "display_name": "Python 3",
   "language": "python",
   "name": "python3"
  },
  "language_info": {
   "codemirror_mode": {
    "name": "ipython",
    "version": 3
   },
   "file_extension": ".py",
   "mimetype": "text/x-python",
   "name": "python",
   "nbconvert_exporter": "python",
   "pygments_lexer": "ipython3",
   "version": "3.10.10"
  }
 },
 "nbformat": 4,
 "nbformat_minor": 2
}
