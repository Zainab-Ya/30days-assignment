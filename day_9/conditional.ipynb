{
 "cells": [
  {
   "cell_type": "markdown",
   "metadata": {},
   "source": [
    "Exercises Day 9:\n",
    "\n",
    "Exercises: Level 1\n",
    "\n",
    "No.1"
   ]
  },
  {
   "cell_type": "code",
   "execution_count": 9,
   "metadata": {},
   "outputs": [
    {
     "name": "stdout",
     "output_type": "stream",
     "text": [
      "Sorry, you need to wait 3 more year(s) to drive.\n"
     ]
    }
   ],
   "source": [
    "age = int(input(\"Enter your age: \"))\n",
    "if age >= 18:\n",
    "    print(\"You are old enough to drive.\")\n",
    "else:\n",
    "    print(f\"Sorry, you need to wait {18 - age} more year(s) to drive.\")\n"
   ]
  },
  {
   "cell_type": "markdown",
   "metadata": {},
   "source": [
    "No. 2"
   ]
  },
  {
   "cell_type": "code",
   "execution_count": 10,
   "metadata": {},
   "outputs": [
    {
     "name": "stdout",
     "output_type": "stream",
     "text": [
      "You are 8 years older than me.\n"
     ]
    }
   ],
   "source": [
    "my_age = 30\n",
    "your_age = int(input(\"Enter your age: \"))\n",
    "\n",
    "if my_age > your_age:\n",
    "    age_diff = my_age - your_age\n",
    "    if age_diff == 1:\n",
    "        print(\"I am\", age_diff, \"year older than you.\")\n",
    "    else:\n",
    "        print(\"I am\", age_diff, \"years older than you.\")\n",
    "elif my_age < your_age:\n",
    "    age_diff = your_age - my_age\n",
    "    if age_diff == 1:\n",
    "        print(\"You are\", age_diff, \"year older than me.\")\n",
    "    else:\n",
    "        print(\"You are\", age_diff, \"years older than me.\")\n",
    "else:\n",
    "    print(\"We are of the same age.\")\n"
   ]
  },
  {
   "cell_type": "markdown",
   "metadata": {},
   "source": [
    "No. 3"
   ]
  },
  {
   "cell_type": "code",
   "execution_count": 12,
   "metadata": {},
   "outputs": [
    {
     "name": "stdout",
     "output_type": "stream",
     "text": [
      "a is greater than b\n"
     ]
    }
   ],
   "source": [
    "a = int(input(\"Enter the first number: \"))\n",
    "b = int(input(\"Enter the second number: \"))\n",
    "\n",
    "if a > b:\n",
    "    print(\"a is greater than b\")\n",
    "elif a < b:\n",
    "    print(\"a is smaller than b\")\n",
    "else:\n",
    "    print(\"a is equal to b\")\n"
   ]
  },
  {
   "cell_type": "markdown",
   "metadata": {},
   "source": [
    "Exercise Level 2:"
   ]
  },
  {
   "cell_type": "markdown",
   "metadata": {},
   "source": [
    "No. 1"
   ]
  },
  {
   "cell_type": "code",
   "execution_count": 15,
   "metadata": {},
   "outputs": [
    {
     "name": "stdout",
     "output_type": "stream",
     "text": [
      "Invalid score\n"
     ]
    }
   ],
   "source": [
    "score = int(input(\"Enter the score: \"))\n",
    "\n",
    "if score >= 80 and score <= 100:\n",
    "    print(\"A\")\n",
    "elif score >= 70 and score <= 89:\n",
    "    print(\"B\")\n",
    "elif score >= 60 and score <= 69:\n",
    "    print(\"C\")\n",
    "elif score >= 50 and score <= 59:\n",
    "    print(\"D\")\n",
    "elif score >= 0 and score <= 49:\n",
    "    print(\"F\")\n",
    "else:\n",
    "    print(\"Invalid score\")\n"
   ]
  },
  {
   "cell_type": "code",
   "execution_count": 16,
   "metadata": {},
   "outputs": [
    {
     "name": "stdout",
     "output_type": "stream",
     "text": [
      "Winter\n"
     ]
    }
   ],
   "source": [
    "month = input(\"Enter the month: \")\n",
    "\n",
    "if month in [\"December\", \"January\", \"February\"]:\n",
    "    print(\"Winter\")\n",
    "elif month in [\"March\", \"April\", \"May\"]:\n",
    "    print(\"Spring\")\n",
    "elif month in [\"June\", \"July\", \"August\"]:\n",
    "    print(\"Summer\")\n",
    "elif month in [\"September\", \"October\", \"November\"]:\n",
    "    print(\"Autumn\")\n",
    "else:\n",
    "    print(\"Invalid month\")\n"
   ]
  },
  {
   "cell_type": "code",
   "execution_count": 18,
   "metadata": {},
   "outputs": [
    {
     "name": "stdout",
     "output_type": "stream",
     "text": [
      "['banana', 'orange', 'mango', 'lemon', 'strawberry']\n"
     ]
    }
   ],
   "source": [
    "fruits = ['banana', 'orange', 'mango', 'lemon']\n",
    "fruit = input(\"Enter a fruit: \")\n",
    "\n",
    "if fruit in fruits:\n",
    "    print(\"That fruit already exists in the list\")\n",
    "else:\n",
    "    fruits.append(fruit)\n",
    "    print(fruits)\n"
   ]
  },
  {
   "cell_type": "markdown",
   "metadata": {},
   "source": [
    "Exercises Level 3"
   ]
  },
  {
   "cell_type": "code",
   "execution_count": 19,
   "metadata": {},
   "outputs": [
    {
     "name": "stdout",
     "output_type": "stream",
     "text": [
      "Python is one of the skills\n",
      "Middle skill is Node\n",
      "unknown title\n",
      "Asabeneh Yetayeh lives in Finland. He is married.\n"
     ]
    }
   ],
   "source": [
    "person={\n",
    "    'first_name': 'Asabeneh',\n",
    "    'last_name': 'Yetayeh',\n",
    "    'age': 250,\n",
    "    'country': 'Finland',\n",
    "    'is_marred': True,\n",
    "    'skills': ['JavaScript', 'React', 'Node', 'MongoDB', 'Python'],\n",
    "    'address': {\n",
    "        'street': 'Space street',\n",
    "        'zipcode': '02210'\n",
    "    }\n",
    "}\n",
    "\n",
    "if 'skills' in person:\n",
    "    skills = person['skills']\n",
    "    if 'Python' in skills:\n",
    "        print('Python is one of the skills')\n",
    "    middle_index = len(skills) // 2\n",
    "    print(f\"Middle skill is {skills[middle_index]}\")\n",
    "\n",
    "    if set(skills) == set(['JavaScript', 'React']):\n",
    "        print('He is a front end developer')\n",
    "    elif set(skills) == set(['Node', 'Python', 'MongoDB']):\n",
    "        print('He is a backend developer')\n",
    "    elif set(skills) == set(['React', 'Node', 'MongoDB']):\n",
    "        print('He is a fullstack developer')\n",
    "    else:\n",
    "        print('unknown title')\n",
    "\n",
    "if person['is_marred'] and person['country'] == 'Finland':\n",
    "    print(f\"{person['first_name']} {person['last_name']} lives in {person['country']}. He is married.\")\n"
   ]
  }
 ],
 "metadata": {
  "kernelspec": {
   "display_name": "Python 3",
   "language": "python",
   "name": "python3"
  },
  "language_info": {
   "codemirror_mode": {
    "name": "ipython",
    "version": 3
   },
   "file_extension": ".py",
   "mimetype": "text/x-python",
   "name": "python",
   "nbconvert_exporter": "python",
   "pygments_lexer": "ipython3",
   "version": "3.10.10"
  }
 },
 "nbformat": 4,
 "nbformat_minor": 2
}
