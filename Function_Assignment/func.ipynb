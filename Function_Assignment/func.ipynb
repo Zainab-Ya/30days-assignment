{
 "cells": [
  {
   "cell_type": "markdown",
   "metadata": {},
   "source": [
    "Function Exercises\n",
    "8-1"
   ]
  },
  {
   "cell_type": "code",
   "execution_count": 9,
   "metadata": {},
   "outputs": [
    {
     "name": "stdout",
     "output_type": "stream",
     "text": [
      "I am learning about functions in this chapter.\n"
     ]
    }
   ],
   "source": [
    "def display_message():\n",
    "    \"\"\"Display the message\"\"\"\n",
    "    print(\"I am learning about functions in this chapter.\")\n",
    "display_message()"
   ]
  },
  {
   "cell_type": "markdown",
   "metadata": {},
   "source": [
    "8-2"
   ]
  },
  {
   "cell_type": "code",
   "execution_count": 10,
   "metadata": {},
   "outputs": [
    {
     "name": "stdout",
     "output_type": "stream",
     "text": [
      "One of my favorite books is Alice in Wonderland.\n"
     ]
    }
   ],
   "source": [
    "def favorite_book(title):\n",
    " print(f\"One of my favorite books is {title}.\")\n",
    "favorite_book('Alice in Wonderland')"
   ]
  },
  {
   "cell_type": "markdown",
   "metadata": {},
   "source": [
    "8-3"
   ]
  },
  {
   "cell_type": "code",
   "execution_count": 11,
   "metadata": {},
   "outputs": [
    {
     "name": "stdout",
     "output_type": "stream",
     "text": [
      "I want a medium shirt that says 'Hello World!'.\n"
     ]
    }
   ],
   "source": [
    "def make_shirt(size, message):\n",
    "    print(f\"I want a {size} shirt that says '{message}'.\")\n",
    "make_shirt('medium', 'Hello World!') "
   ]
  },
  {
   "cell_type": "markdown",
   "metadata": {},
   "source": [
    "8-4"
   ]
  },
  {
   "cell_type": "code",
   "execution_count": 13,
   "metadata": {},
   "outputs": [
    {
     "name": "stdout",
     "output_type": "stream",
     "text": [
      "I want a large shirt that says 'I love Python'.\n",
      "I want a medium shirt that says 'I love Python'.\n",
      "I want a small shirt that says 'Python is fun'.\n"
     ]
    }
   ],
   "source": [
    "def make_shirt(size='large', message='I love Python'):\n",
    "    print(f\"I want a {size} shirt that says '{message}'.\")\n",
    "make_shirt()\n",
    "make_shirt('medium')\n",
    "make_shirt('small', 'Python is fun')\n",
    "\n"
   ]
  },
  {
   "cell_type": "markdown",
   "metadata": {},
   "source": [
    "8-5"
   ]
  },
  {
   "cell_type": "code",
   "execution_count": 14,
   "metadata": {},
   "outputs": [
    {
     "name": "stdout",
     "output_type": "stream",
     "text": [
      "Seattle is in USA.\n",
      "Reykjavik is in Iceland.\n",
      "Lagos is in Nigeria.\n"
     ]
    }
   ],
   "source": [
    "def describe_city(city, country='USA'):\n",
    "    print(f\"{city} is in {country}.\")\n",
    "describe_city('Seattle')\n",
    "describe_city('Reykjavik', 'Iceland')\n",
    "describe_city('Lagos', 'Nigeria')\n"
   ]
  },
  {
   "cell_type": "markdown",
   "metadata": {},
   "source": [
    "8-6"
   ]
  },
  {
   "cell_type": "code",
   "execution_count": 15,
   "metadata": {},
   "outputs": [
    {
     "name": "stdout",
     "output_type": "stream",
     "text": [
      "Seattle, Usa\n",
      "Lagos, Nigeria\n",
      "Santiago, Chile\n"
     ]
    }
   ],
   "source": [
    "def city_country(city, country):\n",
    "    return f\"{city.title()}, {country.title()}\"\n",
    "print(city_country('seattle', 'usa'))\n",
    "print(city_country('lagos', 'nigeria'))\n",
    "print(city_country('santiago', 'chile'))\n"
   ]
  },
  {
   "cell_type": "markdown",
   "metadata": {},
   "source": [
    "8-7"
   ]
  },
  {
   "cell_type": "code",
   "execution_count": 16,
   "metadata": {},
   "outputs": [
    {
     "name": "stdout",
     "output_type": "stream",
     "text": [
      "{'artist': 'The Beatles', 'title': 'Abbey Road'}\n",
      "{'artist': 'Pink Floyd', 'title': 'The Wall'}\n",
      "{'artist': 'Led Zeppelin', 'title': 'IV', 'num_songs': 8}\n"
     ]
    }
   ],
   "source": [
    "def make_album(artist_name, album_title, num_songs=None):\n",
    "    album = {'artist': artist_name, 'title': album_title}\n",
    "    if num_songs:\n",
    "        album['num_songs'] = num_songs\n",
    "    return album\n",
    "album1 = make_album('The Beatles', 'Abbey Road')\n",
    "album2 = make_album('Pink Floyd', 'The Wall')\n",
    "album3 = make_album('Led Zeppelin', 'IV', 8)\n",
    "\n",
    "print(album1)\n",
    "print(album2)\n",
    "print(album3)\n"
   ]
  },
  {
   "cell_type": "markdown",
   "metadata": {},
   "source": [
    "8-8"
   ]
  },
  {
   "cell_type": "code",
   "execution_count": 17,
   "metadata": {},
   "outputs": [
    {
     "name": "stdout",
     "output_type": "stream",
     "text": [
      "\n",
      "Enter 'q' at any time to quit.\n"
     ]
    }
   ],
   "source": [
    "def make_album(artist_name, album_title, num_songs=None):\n",
    "    album = {'artist': artist_name, 'title': album_title}\n",
    "    if num_songs:\n",
    "        album['num_songs'] = num_songs\n",
    "    return album\n",
    "\n",
    "while True:\n",
    "    print(\"\\nEnter 'q' at any time to quit.\")\n",
    "    artist = input(\"Enter the album's artist: \")\n",
    "    if artist == 'q':\n",
    "        break\n",
    "    title = input(\"Enter the album's title: \")\n",
    "    if title == 'q':\n",
    "        break\n",
    "    album = make_album(artist, title)\n",
    "    print(album)\n"
   ]
  },
  {
   "cell_type": "markdown",
   "metadata": {},
   "source": [
    "8-9"
   ]
  },
  {
   "cell_type": "code",
   "execution_count": 18,
   "metadata": {},
   "outputs": [
    {
     "name": "stdout",
     "output_type": "stream",
     "text": [
      "Hello, how are you?\n",
      "What are you up to?\n",
      "Have a great day!\n"
     ]
    }
   ],
   "source": [
    "def show_messages(messages):\n",
    "    for message in messages:\n",
    "        print(message)\n",
    "messages = ['Hello, how are you?', 'What are you up to?', 'Have a great day!']\n",
    "show_messages(messages)\n"
   ]
  },
  {
   "cell_type": "markdown",
   "metadata": {},
   "source": [
    "8-10"
   ]
  },
  {
   "cell_type": "code",
   "execution_count": 19,
   "metadata": {},
   "outputs": [
    {
     "name": "stdout",
     "output_type": "stream",
     "text": [
      "Hello, how are you?\n",
      "What are you up to?\n",
      "Have a great day!\n",
      "Original messages: ['Hello, how are you?', 'What are you up to?', 'Have a great day!']\n",
      "Sent messages: ['Hello, how are you?', 'What are you up to?', 'Have a great day!']\n"
     ]
    }
   ],
   "source": [
    "def send_messages(messages):\n",
    "    sent_messages = []\n",
    "    for message in messages:\n",
    "        print(message)\n",
    "        sent_messages.append(message)\n",
    "    return sent_messages\n",
    "messages = ['Hello, how are you?', 'What are you up to?', 'Have a great day!']\n",
    "sent_messages = send_messages(messages)\n",
    "print(f\"Original messages: {messages}\")\n",
    "print(f\"Sent messages: {sent_messages}\")\n"
   ]
  },
  {
   "cell_type": "markdown",
   "metadata": {},
   "source": [
    "8-11"
   ]
  },
  {
   "cell_type": "code",
   "execution_count": 21,
   "metadata": {},
   "outputs": [
    {
     "name": "stdout",
     "output_type": "stream",
     "text": [
      "Hello, how are you?\n",
      "What are you up to?\n",
      "Have a great day!\n",
      "Original messages: ['Hello, how are you?', 'What are you up to?', 'Have a great day!']\n",
      "Sent messages: ['Hello, how are you?', 'What are you up to?', 'Have a great day!']\n"
     ]
    }
   ],
   "source": [
    "def send_messages(messages):\n",
    "    sent_messages = []\n",
    "    for message in messages:\n",
    "        print(message)\n",
    "        sent_messages.append(message)\n",
    "    return sent_messages\n",
    "\n",
    "messages = ['Hello, how are you?', 'What are you up to?', 'Have a great day!']\n",
    "sent_messages = send_messages(messages[:])\n",
    "print(f\"Original messages: {messages}\")\n",
    "print(f\"Sent messages: {sent_messages}\")\n"
   ]
  },
  {
   "cell_type": "markdown",
   "metadata": {},
   "source": [
    "8-12"
   ]
  },
  {
   "cell_type": "code",
   "execution_count": 22,
   "metadata": {},
   "outputs": [
    {
     "name": "stdout",
     "output_type": "stream",
     "text": [
      "You ordered a sandwich with the following items: lettuce, tomato, mayonnaise.\n",
      "You ordered a sandwich with the following items: turkey, cheese, lettuce, mayonnaise, mustard.\n",
      "You ordered a sandwich with the following items: peanut butter, jelly.\n"
     ]
    }
   ],
   "source": [
    "def make_sandwich(*items):\n",
    "    print(f\"You ordered a sandwich with the following items: {', '.join(items)}.\")\n",
    "\n",
    "make_sandwich('lettuce', 'tomato', 'mayonnaise')\n",
    "make_sandwich('turkey', 'cheese', 'lettuce', 'mayonnaise', 'mustard')\n",
    "make_sandwich('peanut butter', 'jelly')\n"
   ]
  },
  {
   "cell_type": "markdown",
   "metadata": {},
   "source": [
    "8-13"
   ]
  },
  {
   "cell_type": "code",
   "execution_count": 26,
   "metadata": {},
   "outputs": [
    {
     "name": "stdout",
     "output_type": "stream",
     "text": [
      "{'first_name': 'Ado', 'last_name': 'Aminu', 'age': 22, 'favorite_color': 'blue', 'favorite_food': 'pineapple fried rice'}\n"
     ]
    }
   ],
   "source": [
    "my_profile = {\n",
    "    'first_name': 'Ado',\n",
    "    'last_name': 'Aminu',\n",
    "    'age': 22,\n",
    "    'favorite_color': 'blue',\n",
    "    'favorite_food': 'pineapple fried rice'\n",
    "}\n",
    "print(my_profile)\n"
   ]
  },
  {
   "cell_type": "markdown",
   "metadata": {},
   "source": [
    "8-14"
   ]
  },
  {
   "cell_type": "code",
   "execution_count": 27,
   "metadata": {},
   "outputs": [
    {
     "name": "stdout",
     "output_type": "stream",
     "text": [
      "{'manufacturer': 'subaru', 'model': 'outback', 'color': 'blue', 'tow_package': True}\n"
     ]
    }
   ],
   "source": [
    "def make_car(manufacturer, model, **car_info):\n",
    "    car = {'manufacturer': manufacturer, 'model': model}\n",
    "    for key, value in car_info.items():\n",
    "        car[key] = value\n",
    "    return car\n",
    "car = make_car('subaru', 'outback', color='blue', tow_package=True)\n",
    "print(car)\n"
   ]
  },
  {
   "cell_type": "code",
   "execution_count": null,
   "metadata": {},
   "outputs": [],
   "source": [
    "import printing_functions \n",
    "from printing_functions import make_car\n",
    "from printing_functions  import make_car as fn\n",
    "import printing_functions  as mn\n",
    "from printing_functions import *"
   ]
  }
 ],
 "metadata": {
  "kernelspec": {
   "display_name": "Python 3",
   "language": "python",
   "name": "python3"
  },
  "language_info": {
   "codemirror_mode": {
    "name": "ipython",
    "version": 3
   },
   "file_extension": ".py",
   "mimetype": "text/x-python",
   "name": "python",
   "nbconvert_exporter": "python",
   "pygments_lexer": "ipython3",
   "version": "3.10.10"
  }
 },
 "nbformat": 4,
 "nbformat_minor": 2
}
